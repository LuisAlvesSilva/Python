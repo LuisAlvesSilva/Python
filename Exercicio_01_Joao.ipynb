{
  "nbformat": 4,
  "nbformat_minor": 0,
  "metadata": {
    "colab": {
      "provenance": [],
      "authorship_tag": "ABX9TyNxYd4A3jiarQhWMtl8Vl5Y",
      "include_colab_link": true
    },
    "kernelspec": {
      "name": "python3",
      "display_name": "Python 3"
    },
    "language_info": {
      "name": "python"
    }
  },
  "cells": [
    {
      "cell_type": "markdown",
      "metadata": {
        "id": "view-in-github",
        "colab_type": "text"
      },
      "source": [
        "<a href=\"https://colab.research.google.com/github/LuisAlvesSilva/Python/blob/main/Exercicio_01_Joao.ipynb\" target=\"_parent\"><img src=\"https://colab.research.google.com/assets/colab-badge.svg\" alt=\"Open In Colab\"/></a>"
      ]
    },
    {
      "cell_type": "markdown",
      "source": [
        "#1\n",
        "Faça um programa que pergunte o nome, idade, peso e altura de uma pessoa e decide ser ela está apta a entrar no exercito.\n",
        "Obs: Para entrar no exercito é preciso ter mais de 18 anos, pesar igual ou mais que 60 kg e medir mais ou igual que 1,70\n",
        "\n",
        "Saida:\n",
        "'Você está apto a servir o exercito'\n",
        "OU\n",
        "'Você não está apto a servir o exercito'\n"
      ],
      "metadata": {
        "id": "wwG5GJpHRdqM"
      }
    },
    {
      "cell_type": "code",
      "source": [
        "nome = str(input(\"Digite o seu nome: \"))\n",
        "idade = int(input(\"Digite a sua idade: \"))\n",
        "peso = float(input(\"Digite o seu peso: \"))\n",
        "altura = float(input(\"Digite a sua altura: \"))\n",
        "\n",
        "if peso >= 80 and idade == 18 and altura >= 1.70 :\n",
        "  print(\"Voce foi convocado para o exercito\")\n",
        "\n",
        "else:\n",
        "  print(\"Voce foi dispensado do exercito\")"
      ],
      "metadata": {
        "colab": {
          "base_uri": "https://localhost:8080/"
        },
        "id": "Qcp3PSXRRg9j",
        "outputId": "adb2d951-0af4-4c91-c063-34b26d0d78ba"
      },
      "execution_count": null,
      "outputs": [
        {
          "output_type": "stream",
          "name": "stdout",
          "text": [
            "Digite o seu nome: luis\n",
            "Digite a sua idade: 18\n",
            "Digite o seu peso: 100\n",
            "Digite a sua altura: 1.90\n",
            "Voce foi convocado para o exercito\n"
          ]
        }
      ]
    },
    {
      "cell_type": "markdown",
      "source": [
        "#2\n",
        "Faça um programa que imprima a frase de tras para frente e veja o que está escrito. Palindromo - Anotaram a data da maratona"
      ],
      "metadata": {
        "id": "b_hVub3wRhLT"
      }
    },
    {
      "cell_type": "code",
      "source": [
        "txt = \"anotaram a data da maratona\"\n",
        "print(txt[::-1])"
      ],
      "metadata": {
        "id": "KEub-R2kRjJM"
      },
      "execution_count": null,
      "outputs": []
    },
    {
      "cell_type": "markdown",
      "source": [
        "#3\n",
        "Faça um programa que calcule quantos segundos tem:\n",
        "\n",
        "Entrada:\n",
        "dias = int(input(\"Dias: \"))\n",
        "horas = int(input(\"Horas: \"))\n",
        "minutos = int(input(\"Minutos: \"))\n"
      ],
      "metadata": {
        "id": "HfDoVwT4RjRE"
      }
    },
    {
      "cell_type": "code",
      "source": [
        "dias = int(input(\"Digite quantos dias: \"))\n",
        "horas = int(input(\"Digite quantas horas: \"))\n",
        "minutos = int(input(\"Digite quantos minutos: \"))\n",
        "\n",
        "hour = 24\n",
        "minutes = 60\n",
        "seconds = 60\n",
        "\n",
        "if dias:\n",
        "  print (f\"Ha {dias*hour*minutes*seconds} segundos em {dias} dia(s).\")\n",
        "\n",
        "if horas:\n",
        "  print (f\"Ha {horas*minutes*seconds} segundos em {horas} hora(s).\")\n",
        "\n",
        "if minutos:\n",
        "  print (f\"Ha {minutos*seconds} segundos em {minutos} minutos(s).\")"
      ],
      "metadata": {
        "id": "pXAxpL24RlcM",
        "colab": {
          "base_uri": "https://localhost:8080/"
        },
        "outputId": "045405e9-7e9e-44c1-e2e3-eef4cac9e0a4"
      },
      "execution_count": null,
      "outputs": [
        {
          "output_type": "stream",
          "name": "stdout",
          "text": [
            "Digite quantos dias: 5\n",
            "Digite quantas horas: 4\n",
            "Digite quantos minutos: 2\n",
            "Ha 432000 segundos em 5 dia(s).\n",
            "Ha 14400 segundos em 4 hora(s).\n",
            "Ha 120 segundos em 2 minutos(s).\n"
          ]
        }
      ]
    },
    {
      "cell_type": "markdown",
      "source": [
        "#4\n",
        "Faça um programa que calcule o tempo de uma viagem de carro.\n",
        "Entrada:\n",
        "distância a percorrer e a velocidade média esperada para a viagem.\n"
      ],
      "metadata": {
        "id": "ELPzcfU1Rllp"
      }
    },
    {
      "cell_type": "code",
      "source": [
        "distancia = float(input(\"Digite os Km que será percorrido até o destino: \"))\n",
        "velocidade = float(input(\"Qaul a velocidade media do qual voce seguirá viagem: \"))\n",
        "\n",
        "tempo = distancia/velocidade\n",
        "print(f\"O tempo gasto da viagem será em media: {tempo}\")"
      ],
      "metadata": {
        "id": "7RdOdaJVRnpd",
        "colab": {
          "base_uri": "https://localhost:8080/"
        },
        "outputId": "177ba593-0245-45e6-c45b-4f6f063658f8"
      },
      "execution_count": null,
      "outputs": [
        {
          "output_type": "stream",
          "name": "stdout",
          "text": [
            "Digite os Km que será percorrido até o destino: 80\n",
            "Qaul a velocidade media do qual voce seguirá viagem: 80\n",
            "O tempo gasto da viagem será em media: 1.0\n"
          ]
        }
      ]
    },
    {
      "cell_type": "markdown",
      "source": [
        "#5\n",
        "Faça um programa que recebe a velocidade do carro e, caso ultrapasse 80 km/h, exiba uma mensagem dizendo que o usuário foi multado.\n",
        "Nesse caso, exiba o valor da multa, cobrando R$ 5 por km acima de 80 km/h.\n"
      ],
      "metadata": {
        "id": "bt21VNRqRnx8"
      }
    },
    {
      "cell_type": "code",
      "source": [
        "vel_carro = float(input(\"Digite a velocidade do qual o carro percorreria na via: \"))\n",
        "\n",
        "if vel_carro > 80:\n",
        "  multa = (vel_carro - 80) * 5\n",
        "  print(f\"Voce foi multado em R$ {multa}\") \n",
        "\n",
        "else:\n",
        "  vel_carro <= 80\n",
        "  print(\"Sua velocidade esta dentro do permitido\")"
      ],
      "metadata": {
        "colab": {
          "base_uri": "https://localhost:8080/"
        },
        "id": "A_J62UsCRpvT",
        "outputId": "f2a49922-7ebc-44aa-aec9-f70266a9714f"
      },
      "execution_count": null,
      "outputs": [
        {
          "output_type": "stream",
          "name": "stdout",
          "text": [
            "Digite a velocidade do qual o carro percorreria na via: 300\n",
            "Voce foi multado em R$ 1,100.00\n"
          ]
        }
      ]
    },
    {
      "cell_type": "markdown",
      "source": [
        "#6\n",
        "Faça um programa para aprovar o empréstimo bancário para compra de uma casa. O programa deve perguntar o valor da casa a comprar, o salário e a quantidade de anos a pagar. O valor da prestação mensal não pode ser superior a 30% do salário. Calcule o valor da prestação como sendo o valor da casa a comprar dividido pelo número de meses a pagar.\n",
        "\n",
        "\n"
      ],
      "metadata": {
        "id": "y_rcPwHxRp3b"
      }
    },
    {
      "cell_type": "code",
      "source": [
        "val_casa = float(input(\"Digite o valor da casa que deseja comprar: \"))\n",
        "salario = float(input(\"Digite o valor do salario que voce recebe: \"))\n",
        "anos = int(input(\"Digite em quantos anos quer pagar: \"))\n",
        "\n",
        "meses = anos * 12\n",
        "prestacao = val_casa / meses\n",
        "\n",
        "if prestacao > salario * 0.3:\n",
        "  print(\"Infelizmente cove nao pode obter o emprestimo\")\n",
        "  print(f\"Valor da prestacao: R$ {prestacao:5.f}\")"
      ],
      "metadata": {
        "id": "Nx3MCfbkRsUU"
      },
      "execution_count": null,
      "outputs": []
    },
    {
      "cell_type": "markdown",
      "source": [
        "#7\n",
        "Faça um programa para imprimir a tabuada (operação multiplicação) de um determinado número:\n",
        "\n",
        "Saída:\n",
        "Ex.\n",
        "Tabuada do 5 de 0 a 9\n",
        "5 X 0 = 0\n",
        "5 X 1 = 5\n",
        ".\n",
        ".\n",
        "5 X 9 = 45\n"
      ],
      "metadata": {
        "id": "nLh6--n4RsbL"
      }
    },
    {
      "cell_type": "code",
      "source": [
        "tabuada=int(input(\"Tabuada do numero: \"))\n",
        "\n",
        "for count in range(10):\n",
        "    print(\"%d x %d = %d\" % (tabuada, count+1, tabuada*(count+1)) )\n"
      ],
      "metadata": {
        "colab": {
          "base_uri": "https://localhost:8080/"
        },
        "id": "9aes04GXRvyE",
        "outputId": "4348dc17-d22b-45fc-f4f6-c73f3edf770b"
      },
      "execution_count": null,
      "outputs": [
        {
          "output_type": "stream",
          "name": "stdout",
          "text": [
            "Tabuada do numero: 10\n",
            "10 x 1 = 10\n",
            "10 x 2 = 20\n",
            "10 x 3 = 30\n",
            "10 x 4 = 40\n",
            "10 x 5 = 50\n",
            "10 x 6 = 60\n",
            "10 x 7 = 70\n",
            "10 x 8 = 80\n",
            "10 x 9 = 90\n",
            "10 x 10 = 100\n"
          ]
        }
      ]
    },
    {
      "cell_type": "markdown",
      "source": [
        "#8\n",
        "Faça um programa que calcule o resto da divisão inteira entre dois números. Utilize apenas as operações de soma e subtração para calcular o resultado.\n"
      ],
      "metadata": {
        "id": "OjQpkn9ERv5T"
      }
    },
    {
      "cell_type": "code",
      "source": [
        "numero_01 = int(input(\"Digite o primeiro numero inteiro: \"))\n",
        "numero_02 = int(input(\"Digite o segundo numero inteiro: \"))\n",
        "\n",
        "while numero_01 > numero_02 :\n",
        "  numero_01 = numero_01 - numero_02\n",
        "print(f\"O resto da divisao é de: {numero_01}\")"
      ],
      "metadata": {
        "id": "xYi1J3qURxjL",
        "colab": {
          "base_uri": "https://localhost:8080/"
        },
        "outputId": "ee903d58-f437-4cbb-915a-e4ff1114e4f3"
      },
      "execution_count": null,
      "outputs": [
        {
          "output_type": "stream",
          "name": "stdout",
          "text": [
            "Digite o primeiro numero inteiro: 5\n",
            "Digite o segundo numero inteiro: 6\n",
            "O resto da divisao é de: 5\n"
          ]
        }
      ]
    },
    {
      "cell_type": "markdown",
      "source": [
        "#9\n",
        "Escreva um programa que leia 3 números inteiros referentes ao comprimento dos lados de um triângulo e classifique-o como:\n",
        "triângulo equilátero, isósceles ou escaleno.\n",
        "\n"
      ],
      "metadata": {
        "id": "8ICg1oICRxrj"
      }
    },
    {
      "cell_type": "code",
      "source": [
        "lado_01 = int(input(\"Digite o primeiro lado do triangulo: \"))\n",
        "lado_02 = int(input(\"Digite o segundo lado do triangulo: \"))\n",
        "lado_03 = int(input(\"Digite o terceiro lado do triangulo: \"))\n",
        "\n",
        "if lado_01 == lado_02 and lado_01 != lado_03 or lado_02 == lado_03 and lado_02 != lado_01 or lado_01 == lado_03 and lado_01 != lado_02:\n",
        "  print(\"Esses Triangulo é Isoceles.\")\n",
        "elif lado_01 == lado_02 or lado_01 == lado_03 or lado_02 == lado_03:\n",
        "  print(\"Esses Triangulo é Equilatero.\")\n",
        "else:\n",
        "  print(\"Esses Triangulo é Escaleno.\")"
      ],
      "metadata": {
        "id": "ImqFA5BvRzdb",
        "colab": {
          "base_uri": "https://localhost:8080/"
        },
        "outputId": "1775eecf-93bd-49ab-a8e6-9b13428a1479"
      },
      "execution_count": null,
      "outputs": [
        {
          "output_type": "stream",
          "name": "stdout",
          "text": [
            "Digite o primeiro lado do triangulo: 5\n",
            "Digite o segundo lado do triangulo: 5\n",
            "Digite o terceiro lado do triangulo: 2\n",
            "Esses Triangulo é Isoceles.\n"
          ]
        }
      ]
    },
    {
      "cell_type": "markdown",
      "source": [
        "#10\n",
        "Escreva uma função que receba um número inteiro como entrada (px.: 32243) e retorne o número invertido (px.: 34223).\n",
        "\n"
      ],
      "metadata": {
        "id": "qin2BOPeRzkz"
      }
    },
    {
      "cell_type": "code",
      "source": [
        "numero = int(input(\"Digite um numero: \"))\n",
        "numero = str(numero)[::-1]\n",
        "print(numero)"
      ],
      "metadata": {
        "id": "IOyhTowiR1ON",
        "colab": {
          "base_uri": "https://localhost:8080/"
        },
        "outputId": "9f650dbc-99e9-46e8-deca-1c2e67882996"
      },
      "execution_count": null,
      "outputs": [
        {
          "output_type": "stream",
          "name": "stdout",
          "text": [
            "Digite um numero: 852\n",
            "258\n"
          ]
        }
      ]
    },
    {
      "cell_type": "markdown",
      "source": [
        "#11\n",
        "Escreva uma função que receba uma string e conte o número de vogais dentro dela, por exemplo:\n",
        "Entrada: 'Ciência de Dados'\n",
        "Saida: 'A palavra tem 7 vogais'\n"
      ],
      "metadata": {
        "id": "Ky2i1YNKR1Ts"
      }
    },
    {
      "cell_type": "code",
      "source": [
        "letras = input(\"Digite a frase que deseja saber quantas vogais possui: \")\n",
        "vogal = (\"a\",\"e\",\"i\",\"o\",\"u\")\n",
        "contador = 0\n",
        "\n",
        "for char in letras:\n",
        "  for vogais in vogal:\n",
        "    if (char == vogais):\n",
        "      contador += 1\n",
        "\n",
        "print(\"A palavra tem: \", str(contador) , \"Vogais\")"
      ],
      "metadata": {
        "id": "bo3_PXjTR78D",
        "colab": {
          "base_uri": "https://localhost:8080/"
        },
        "outputId": "a5db0316-4a6a-4caa-e45b-5942ef9610c2"
      },
      "execution_count": null,
      "outputs": [
        {
          "output_type": "stream",
          "name": "stdout",
          "text": [
            "Digite a frase que deseja saber quantas vogais possui: ola mundo\n",
            "A palavra tem:  4 Vogais\n"
          ]
        }
      ]
    },
    {
      "cell_type": "markdown",
      "source": [
        "#12\n",
        "Escreva um programa que encontre o item mais frequente de uma lista. Exemplo: [2, 7, 7, 7, '#', '#', '#', '@', 3, '#', 6]\n",
        "Saída: O caractere mais frequente é '#' e aparece 4 vezes\n"
      ],
      "metadata": {
        "id": "vGBYiqbaR8Ez"
      }
    },
    {
      "cell_type": "code",
      "source": [
        "letras = input(\"Digite a frase que deseja saber qual o item mais frequente: \")\n",
        "lista_letras = list(letras)\n",
        "pos_maior = int(0)\n",
        "quant_maior = int(0)\n",
        "\n",
        "for i in range(len(lista_letras)):\n",
        "  if lista_letras.count(lista_letras[i]) > quant_maior:\n",
        "    quant_maior = i\n",
        "\n",
        "print(lista_letras[pos_maior] + \"aparece\" + str(quant_maior) + \"Vezes.\")\n"
      ],
      "metadata": {
        "id": "vT2yDrW8R9or"
      },
      "execution_count": null,
      "outputs": []
    },
    {
      "cell_type": "markdown",
      "source": [
        "#13\n",
        "Escreva um programa para verificar se uma palavra é ou não um palíndromo.\n",
        "Ex:\n",
        "Digite uma palavra: ovo\n",
        "ovo é um palindromo"
      ],
      "metadata": {
        "id": "ILLkBh8-R-Ed"
      }
    },
    {
      "cell_type": "code",
      "source": [
        "palavra = input(\"Digite uma palavra: \")\n",
        "palavra_invertida = palavra [:: 1]\n",
        "if (palavra == palavra_invertida):\n",
        "  print(\"Está palavra é um palindromo.\")\n",
        "else: \n",
        "  print(\"Está palavra não é um palindromo\")"
      ],
      "metadata": {
        "colab": {
          "base_uri": "https://localhost:8080/"
        },
        "id": "LfAk3v7jR_xk",
        "outputId": "43962b43-0f82-44ed-8dea-75a89ca9b8ff"
      },
      "execution_count": null,
      "outputs": [
        {
          "output_type": "stream",
          "name": "stdout",
          "text": [
            "Digite uma palavra: ovo\n",
            "Está palavra é um palindromo.\n"
          ]
        }
      ]
    }
  ]
}