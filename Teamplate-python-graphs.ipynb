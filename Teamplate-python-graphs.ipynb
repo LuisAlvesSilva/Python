# Carrega o dataset
import pandas as pd
dataset = pd.read_csv('Usuarios.csv')

# Cria o Gráfico
import matplotlib.pyplot as plt
import seaborn as sns
sns.violinplot(x = 'salario', data = dataset)
plt.show()
