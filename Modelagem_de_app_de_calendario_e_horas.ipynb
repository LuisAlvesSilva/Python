{
  "nbformat": 4,
  "nbformat_minor": 0,
  "metadata": {
    "colab": {
      "provenance": [],
      "authorship_tag": "ABX9TyPl0gB6n+593sK6OaCtMVSp"
    },
    "kernelspec": {
      "name": "python3",
      "display_name": "Python 3"
    },
    "language_info": {
      "name": "python"
    }
  },
  "cells": [
    {
      "cell_type": "markdown",
      "source": [
        "Tentativa de Pagina com algumas funções, como a de calendario e horas."
      ],
      "metadata": {
        "id": "LZBX3p7yvJNC"
      }
    },
    {
      "cell_type": "markdown",
      "source": [
        "Primeiro foi feito um calendario de seleção de ano, usando um import de biblioteca de calendar, uma variavel, e uma condição(essa que é qualquer numero a cima de 1)"
      ],
      "metadata": {
        "id": "-fnY-zTBvSPF"
      }
    },
    {
      "cell_type": "code",
      "source": [
        "import calendar                                                                           #importando modulo de calendario.\n",
        "\n",
        "ano = int(input(\"Digite o Ano: \"))                                                        #Solicitando o ano via input.\n",
        "\n",
        "if ano >= 1:                                                                              #Condição de definição do ano.\n",
        "    calendario = calendar.calendar(ano)                                                   #Variavel de ano, a partir do modulo calendar\n",
        "    print (\"Esse é o Calendario do mês\",ano)\n",
        "    print (\"--------------------------------------------------------------------------\")\n",
        "    print (calendario);\n",
        "    print (\"--------------------------------------------------------------------------\")"
      ],
      "metadata": {
        "colab": {
          "base_uri": "https://localhost:8080/"
        },
        "id": "rBiA75jvvplu",
        "outputId": "31b78b0f-7a90-4db1-cec1-4bf7439e9775"
      },
      "execution_count": null,
      "outputs": [
        {
          "output_type": "stream",
          "name": "stdout",
          "text": [
            "Digite o Ano: 2003\n",
            "Esse é o Calendario do mês 2003\n",
            "--------------------------------------------------------------------------\n",
            "                                  2003\n",
            "\n",
            "      January                   February                   March\n",
            "Mo Tu We Th Fr Sa Su      Mo Tu We Th Fr Sa Su      Mo Tu We Th Fr Sa Su\n",
            "       1  2  3  4  5                      1  2                      1  2\n",
            " 6  7  8  9 10 11 12       3  4  5  6  7  8  9       3  4  5  6  7  8  9\n",
            "13 14 15 16 17 18 19      10 11 12 13 14 15 16      10 11 12 13 14 15 16\n",
            "20 21 22 23 24 25 26      17 18 19 20 21 22 23      17 18 19 20 21 22 23\n",
            "27 28 29 30 31            24 25 26 27 28            24 25 26 27 28 29 30\n",
            "                                                    31\n",
            "\n",
            "       April                      May                       June\n",
            "Mo Tu We Th Fr Sa Su      Mo Tu We Th Fr Sa Su      Mo Tu We Th Fr Sa Su\n",
            "    1  2  3  4  5  6                1  2  3  4                         1\n",
            " 7  8  9 10 11 12 13       5  6  7  8  9 10 11       2  3  4  5  6  7  8\n",
            "14 15 16 17 18 19 20      12 13 14 15 16 17 18       9 10 11 12 13 14 15\n",
            "21 22 23 24 25 26 27      19 20 21 22 23 24 25      16 17 18 19 20 21 22\n",
            "28 29 30                  26 27 28 29 30 31         23 24 25 26 27 28 29\n",
            "                                                    30\n",
            "\n",
            "        July                     August                  September\n",
            "Mo Tu We Th Fr Sa Su      Mo Tu We Th Fr Sa Su      Mo Tu We Th Fr Sa Su\n",
            "    1  2  3  4  5  6                   1  2  3       1  2  3  4  5  6  7\n",
            " 7  8  9 10 11 12 13       4  5  6  7  8  9 10       8  9 10 11 12 13 14\n",
            "14 15 16 17 18 19 20      11 12 13 14 15 16 17      15 16 17 18 19 20 21\n",
            "21 22 23 24 25 26 27      18 19 20 21 22 23 24      22 23 24 25 26 27 28\n",
            "28 29 30 31               25 26 27 28 29 30 31      29 30\n",
            "\n",
            "      October                   November                  December\n",
            "Mo Tu We Th Fr Sa Su      Mo Tu We Th Fr Sa Su      Mo Tu We Th Fr Sa Su\n",
            "       1  2  3  4  5                      1  2       1  2  3  4  5  6  7\n",
            " 6  7  8  9 10 11 12       3  4  5  6  7  8  9       8  9 10 11 12 13 14\n",
            "13 14 15 16 17 18 19      10 11 12 13 14 15 16      15 16 17 18 19 20 21\n",
            "20 21 22 23 24 25 26      17 18 19 20 21 22 23      22 23 24 25 26 27 28\n",
            "27 28 29 30 31            24 25 26 27 28 29 30      29 30 31\n",
            "\n",
            "--------------------------------------------------------------------------\n"
          ]
        }
      ]
    },
    {
      "cell_type": "markdown",
      "source": [
        "Agora será um calendario selecionando o mês desejado."
      ],
      "metadata": {
        "id": "xo7tPZ3avsPg"
      }
    },
    {
      "cell_type": "code",
      "source": [
        "import calendar                             #importando modulo de calendario.\n",
        "\n",
        "mes = int(input(\"Digite o mes: \"))          #Solicitando o mes via input.\n",
        "\n",
        "if mes >= 1 and mes <= 12:                  #Condição de definição do mes.\n",
        "  calendario = calendar.month(2023, mes)    #Variavel de mes, a partir do modulo calendar, com definição fixa de ano \"2023\"\n",
        "  print (\"Esse é o Calendario do mês\",ano)\n",
        "  print (\"--------------------\")\n",
        "  print (calendario);\n",
        "  print (\"--------------------\")\n",
        "\n",
        "else:                                       #Condição de definição do valor invalido.\n",
        "  print(\"Mes Invalido\")"
      ],
      "metadata": {
        "colab": {
          "base_uri": "https://localhost:8080/"
        },
        "id": "sDzUr2XzxTMT",
        "outputId": "ee8a0c87-5bed-4f7a-9c33-dd0e75228593"
      },
      "execution_count": null,
      "outputs": [
        {
          "output_type": "stream",
          "name": "stdout",
          "text": [
            "Digite o mes: 3\n",
            "Esse é o Calendario do mês 2003\n",
            "--------------------\n",
            "     March 2023\n",
            "Mo Tu We Th Fr Sa Su\n",
            "       1  2  3  4  5\n",
            " 6  7  8  9 10 11 12\n",
            "13 14 15 16 17 18 19\n",
            "20 21 22 23 24 25 26\n",
            "27 28 29 30 31\n",
            "\n",
            "--------------------\n"
          ]
        }
      ]
    },
    {
      "cell_type": "markdown",
      "source": [
        "Realizando a criação de um relogio. Definindo o fuso horario brasileiro/sao paulo."
      ],
      "metadata": {
        "id": "Esw4ZbkJzll-"
      }
    },
    {
      "cell_type": "code",
      "source": [
        "import datetime                                   #Importação da biblioteca de horas.\n",
        "import pytz                                       #Importação da biblioteca de fuso horario.\n",
        "\n",
        "fusoHorario = pytz.timezone(\"America/Sao_Paulo\")  #Definição a partir da biblioteca o fuso horario de sao paulo/america.\n",
        "\n",
        "data_hora = datetime.datetime.now(fusoHorario)    #Criação da variavel que chama as horas, com o fuso horario definido.\n",
        "hora_atual = data_hora.strftime(\"%H:%M:%S\")       #Criação da variavel para mostrar apenas as horas.\n",
        "data_atual = data_hora.strftime(\"%d/%m/%Y\")       #Criando a Variavel para mostrar apenas a data.\n",
        "\n",
        "print(\"A hora atual é:\", hora_atual)\n",
        "print(data_atual)"
      ],
      "metadata": {
        "colab": {
          "base_uri": "https://localhost:8080/"
        },
        "id": "pK41HNcszthv",
        "outputId": "89575ff2-fc7d-4794-a000-14749df246ea"
      },
      "execution_count": null,
      "outputs": [
        {
          "output_type": "stream",
          "name": "stdout",
          "text": [
            "A hora atual é: 13:26:30\n",
            "26/07/2023\n"
          ]
        }
      ]
    },
    {
      "cell_type": "markdown",
      "source": [
        "Realizando a criação de um relogio. Definindo o fuso horario brasileiro/sao paulo. Com a atualização da hora em tempo real."
      ],
      "metadata": {
        "id": "lLKvaL0mDSJV"
      }
    },
    {
      "cell_type": "code",
      "source": [
        "import datetime                                         #Importação da biblioteca de horas.\n",
        "import pytz                                             #Importação da biblioteca de fuso horario.\n",
        "import time                                             #Importação da biblioteca de definição de valores de tempo.\n",
        "\n",
        "fusoHorario = pytz.timezone(\"America/Sao_Paulo\")        #Definição a partir da biblioteca o fuso horario de sao paulo/america.\n",
        "\n",
        "while True:\n",
        "    data_hora = datetime.datetime.now(fusoHorario)      #Criação da variavel que chama as horas, com o fuso horario definido.\n",
        "    hora_atual = data_hora.strftime(\"%H:%M:%S\")         #Criação da variavel para mostrar apenas as horas.\n",
        "\n",
        "    print(\"\\rHora:\", hora_atual, end=\"\", flush=True)    #Apresentação da hora atualizada, e limpando a linha e atualizando a cada um segundo com a hora exata\n",
        "    time.sleep(1)"
      ],
      "metadata": {
        "colab": {
          "base_uri": "https://localhost:8080/"
        },
        "id": "bhV3RpQfCE-R",
        "outputId": "da6f5fc7-5dd9-4d43-c915-b8bd1a188b22"
      },
      "execution_count": null,
      "outputs": [
        {
          "output_type": "stream",
          "name": "stdout",
          "text": [
            "Hora: 15:55:41"
          ]
        }
      ]
    },
    {
      "cell_type": "markdown",
      "source": [
        "Junção dos codigos!"
      ],
      "metadata": {
        "id": "JseM6Yn7dbDP"
      }
    },
    {
      "cell_type": "code",
      "source": [
        "def calendar(ano):\n",
        "    import calendar\n",
        "\n",
        "    if ano >= 1:\n",
        "        calendario = calendar.calendar(ano)\n",
        "        print(\"Este é o Calendário do ano\", ano)\n",
        "        print(\"-------------------------------------\")\n",
        "        print(calendario)\n",
        "        print(\"-------------------------------------\")\n",
        "\n",
        "def calendar_mes(mes, ano):\n",
        "    from calendar import month\n",
        "\n",
        "    if mes >= 1 and mes <= 12:\n",
        "        calendario = month(ano, mes)\n",
        "        print(\"Este é o Calendário do mês\", mes, \"de\", ano)\n",
        "        print(\"--------------------\")\n",
        "        print(calendario)\n",
        "        print(\"--------------------\")\n",
        "    else:\n",
        "        print(\"Mês Inválido\")\n",
        "\n",
        "def relogio():\n",
        "    import datetime\n",
        "    import pytz\n",
        "    import time\n",
        "\n",
        "    fusoHorario = pytz.timezone(\"America/Sao_Paulo\")\n",
        "\n",
        "    while True:\n",
        "        data_hora = datetime.datetime.now(fusoHorario)\n",
        "        hora_atual = data_hora.strftime(\"%H:%M:%S\")\n",
        "\n",
        "        print(\"\\rHora:\", hora_atual, end=\"\", flush=True)\n",
        "        time.sleep(1)\n",
        "        stop = input(\"\\nDeseja parar? (sim/nao) \")\n",
        "        if stop.lower() == \"sim\":\n",
        "            break\n",
        "\n",
        "selecao = input(\"Digite o que deseja ver: \\nCalendário. \\nHoras\\n\").strip().lower()\n",
        "\n",
        "if selecao == \"calendario\":\n",
        "    tipo_calendario = input(\"Digite se deseja ver o calendário: \\nAnual \\nMensal\\n\").strip().lower()\n",
        "    if tipo_calendario == \"anual\":\n",
        "        ano = int(input(\"Digite o Ano: \"))\n",
        "        calendar(ano)\n",
        "    elif tipo_calendario == \"mensal\":\n",
        "        ano = int(input(\"Digite o Ano: \"))\n",
        "        mes = int(input(\"Digite o mês: \"))\n",
        "        calendar_mes(mes, ano)\n",
        "    else:\n",
        "        print(\"Opção Inválida\")\n",
        "elif selecao == \"horas\":\n",
        "    relogio()\n",
        "else:\n",
        "    print(\"Opção Inválida\")\n"
      ],
      "metadata": {
        "id": "Ck-aO90RgfBe",
        "colab": {
          "base_uri": "https://localhost:8080/"
        },
        "outputId": "d70e24e4-7ba9-4616-802d-f21a681348be"
      },
      "execution_count": 55,
      "outputs": [
        {
          "output_type": "stream",
          "name": "stdout",
          "text": [
            "Digite o que deseja ver: \n",
            "Calendário. \n",
            "Horas\n",
            "calendario\n",
            "Digite se deseja ver o calendário: \n",
            "Anual \n",
            "Mensal\n",
            "anual\n",
            "Digite o Ano: 2023\n",
            "Este é o Calendário do ano 2023\n",
            "-------------------------------------\n",
            "                                  2023\n",
            "\n",
            "      January                   February                   March\n",
            "Mo Tu We Th Fr Sa Su      Mo Tu We Th Fr Sa Su      Mo Tu We Th Fr Sa Su\n",
            "                   1             1  2  3  4  5             1  2  3  4  5\n",
            " 2  3  4  5  6  7  8       6  7  8  9 10 11 12       6  7  8  9 10 11 12\n",
            " 9 10 11 12 13 14 15      13 14 15 16 17 18 19      13 14 15 16 17 18 19\n",
            "16 17 18 19 20 21 22      20 21 22 23 24 25 26      20 21 22 23 24 25 26\n",
            "23 24 25 26 27 28 29      27 28                     27 28 29 30 31\n",
            "30 31\n",
            "\n",
            "       April                      May                       June\n",
            "Mo Tu We Th Fr Sa Su      Mo Tu We Th Fr Sa Su      Mo Tu We Th Fr Sa Su\n",
            "                1  2       1  2  3  4  5  6  7                1  2  3  4\n",
            " 3  4  5  6  7  8  9       8  9 10 11 12 13 14       5  6  7  8  9 10 11\n",
            "10 11 12 13 14 15 16      15 16 17 18 19 20 21      12 13 14 15 16 17 18\n",
            "17 18 19 20 21 22 23      22 23 24 25 26 27 28      19 20 21 22 23 24 25\n",
            "24 25 26 27 28 29 30      29 30 31                  26 27 28 29 30\n",
            "\n",
            "        July                     August                  September\n",
            "Mo Tu We Th Fr Sa Su      Mo Tu We Th Fr Sa Su      Mo Tu We Th Fr Sa Su\n",
            "                1  2          1  2  3  4  5  6                   1  2  3\n",
            " 3  4  5  6  7  8  9       7  8  9 10 11 12 13       4  5  6  7  8  9 10\n",
            "10 11 12 13 14 15 16      14 15 16 17 18 19 20      11 12 13 14 15 16 17\n",
            "17 18 19 20 21 22 23      21 22 23 24 25 26 27      18 19 20 21 22 23 24\n",
            "24 25 26 27 28 29 30      28 29 30 31               25 26 27 28 29 30\n",
            "31\n",
            "\n",
            "      October                   November                  December\n",
            "Mo Tu We Th Fr Sa Su      Mo Tu We Th Fr Sa Su      Mo Tu We Th Fr Sa Su\n",
            "                   1             1  2  3  4  5                   1  2  3\n",
            " 2  3  4  5  6  7  8       6  7  8  9 10 11 12       4  5  6  7  8  9 10\n",
            " 9 10 11 12 13 14 15      13 14 15 16 17 18 19      11 12 13 14 15 16 17\n",
            "16 17 18 19 20 21 22      20 21 22 23 24 25 26      18 19 20 21 22 23 24\n",
            "23 24 25 26 27 28 29      27 28 29 30               25 26 27 28 29 30 31\n",
            "30 31\n",
            "\n",
            "-------------------------------------\n"
          ]
        }
      ]
    }
  ]
}