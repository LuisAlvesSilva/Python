{
  "cells": [
    {
      "cell_type": "markdown",
      "metadata": {
        "id": "LZBX3p7yvJNC"
      },
      "source": [
        "Tentativa de Pagina com algumas funções, como a de calendario e horas."
      ]
    },
    {
      "cell_type": "markdown",
      "metadata": {
        "id": "-fnY-zTBvSPF"
      },
      "source": [
        "Primeiro foi feito um calendario de seleção de ano, usando um import de biblioteca de calendar, uma variavel, e uma condição(essa que é qualquer numero a cima de 1)"
      ]
    },
    {
      "cell_type": "code",
      "execution_count": null,
      "metadata": {
        "colab": {
          "base_uri": "https://localhost:8080/"
        },
        "id": "rBiA75jvvplu",
        "outputId": "31b78b0f-7a90-4db1-cec1-4bf7439e9775"
      },
      "outputs": [
        {
          "name": "stdout",
          "output_type": "stream",
          "text": [
            "Digite o Ano: 2003\n",
            "Esse é o Calendario do mês 2003\n",
            "--------------------------------------------------------------------------\n",
            "                                  2003\n",
            "\n",
            "      January                   February                   March\n",
            "Mo Tu We Th Fr Sa Su      Mo Tu We Th Fr Sa Su      Mo Tu We Th Fr Sa Su\n",
            "       1  2  3  4  5                      1  2                      1  2\n",
            " 6  7  8  9 10 11 12       3  4  5  6  7  8  9       3  4  5  6  7  8  9\n",
            "13 14 15 16 17 18 19      10 11 12 13 14 15 16      10 11 12 13 14 15 16\n",
            "20 21 22 23 24 25 26      17 18 19 20 21 22 23      17 18 19 20 21 22 23\n",
            "27 28 29 30 31            24 25 26 27 28            24 25 26 27 28 29 30\n",
            "                                                    31\n",
            "\n",
            "       April                      May                       June\n",
            "Mo Tu We Th Fr Sa Su      Mo Tu We Th Fr Sa Su      Mo Tu We Th Fr Sa Su\n",
            "    1  2  3  4  5  6                1  2  3  4                         1\n",
            " 7  8  9 10 11 12 13       5  6  7  8  9 10 11       2  3  4  5  6  7  8\n",
            "14 15 16 17 18 19 20      12 13 14 15 16 17 18       9 10 11 12 13 14 15\n",
            "21 22 23 24 25 26 27      19 20 21 22 23 24 25      16 17 18 19 20 21 22\n",
            "28 29 30                  26 27 28 29 30 31         23 24 25 26 27 28 29\n",
            "                                                    30\n",
            "\n",
            "        July                     August                  September\n",
            "Mo Tu We Th Fr Sa Su      Mo Tu We Th Fr Sa Su      Mo Tu We Th Fr Sa Su\n",
            "    1  2  3  4  5  6                   1  2  3       1  2  3  4  5  6  7\n",
            " 7  8  9 10 11 12 13       4  5  6  7  8  9 10       8  9 10 11 12 13 14\n",
            "14 15 16 17 18 19 20      11 12 13 14 15 16 17      15 16 17 18 19 20 21\n",
            "21 22 23 24 25 26 27      18 19 20 21 22 23 24      22 23 24 25 26 27 28\n",
            "28 29 30 31               25 26 27 28 29 30 31      29 30\n",
            "\n",
            "      October                   November                  December\n",
            "Mo Tu We Th Fr Sa Su      Mo Tu We Th Fr Sa Su      Mo Tu We Th Fr Sa Su\n",
            "       1  2  3  4  5                      1  2       1  2  3  4  5  6  7\n",
            " 6  7  8  9 10 11 12       3  4  5  6  7  8  9       8  9 10 11 12 13 14\n",
            "13 14 15 16 17 18 19      10 11 12 13 14 15 16      15 16 17 18 19 20 21\n",
            "20 21 22 23 24 25 26      17 18 19 20 21 22 23      22 23 24 25 26 27 28\n",
            "27 28 29 30 31            24 25 26 27 28 29 30      29 30 31\n",
            "\n",
            "--------------------------------------------------------------------------\n"
          ]
        }
      ],
      "source": [
        "import calendar                                                                           #importando modulo de calendario.\n",
        "\n",
        "ano = int(input(\"Digite o Ano: \"))                                                        #Solicitando o ano via input.\n",
        "\n",
        "if ano >= 1:                                                                              #Condição de definição do ano.\n",
        "    calendario = calendar.calendar(ano)                                                   #Variavel de ano, a partir do modulo calendar\n",
        "    print (\"Esse é o Calendario do mês\",ano)\n",
        "    print (\"--------------------------------------------------------------------------\")\n",
        "    print (calendario);\n",
        "    print (\"--------------------------------------------------------------------------\")"
      ]
    },
    {
      "cell_type": "markdown",
      "metadata": {
        "id": "xo7tPZ3avsPg"
      },
      "source": [
        "Agora será um calendario selecionando o mês desejado."
      ]
    },
    {
      "cell_type": "code",
      "execution_count": null,
      "metadata": {
        "colab": {
          "base_uri": "https://localhost:8080/"
        },
        "id": "sDzUr2XzxTMT",
        "outputId": "ee8a0c87-5bed-4f7a-9c33-dd0e75228593"
      },
      "outputs": [
        {
          "name": "stdout",
          "output_type": "stream",
          "text": [
            "Digite o mes: 3\n",
            "Esse é o Calendario do mês 2003\n",
            "--------------------\n",
            "     March 2023\n",
            "Mo Tu We Th Fr Sa Su\n",
            "       1  2  3  4  5\n",
            " 6  7  8  9 10 11 12\n",
            "13 14 15 16 17 18 19\n",
            "20 21 22 23 24 25 26\n",
            "27 28 29 30 31\n",
            "\n",
            "--------------------\n"
          ]
        }
      ],
      "source": [
        "import calendar                             #importando modulo de calendario.\n",
        "\n",
        "mes = int(input(\"Digite o mes: \"))          #Solicitando o mes via input.\n",
        "\n",
        "if mes >= 1 and mes <= 12:                  #Condição de definição do mes.\n",
        "  calendario = calendar.month(2023, mes)    #Variavel de mes, a partir do modulo calendar, com definição fixa de ano \"2023\"\n",
        "  print (\"Esse é o Calendario do mês\",ano)\n",
        "  print (\"--------------------\")\n",
        "  print (calendario);\n",
        "  print (\"--------------------\")\n",
        "\n",
        "else:                                       #Condição de definição do valor invalido.\n",
        "  print(\"Mes Invalido\")"
      ]
    },
    {
      "cell_type": "markdown",
      "metadata": {
        "id": "Esw4ZbkJzll-"
      },
      "source": [
        "Realizando a criação de um relogio. Definindo o fuso horario brasileiro/sao paulo."
      ]
    },
    {
      "cell_type": "code",
      "execution_count": null,
      "metadata": {
        "colab": {
          "base_uri": "https://localhost:8080/"
        },
        "id": "pK41HNcszthv",
        "outputId": "89575ff2-fc7d-4794-a000-14749df246ea"
      },
      "outputs": [
        {
          "name": "stdout",
          "output_type": "stream",
          "text": [
            "A hora atual é: 13:26:30\n",
            "26/07/2023\n"
          ]
        }
      ],
      "source": [
        "import datetime                                   #Importação da biblioteca de horas.\n",
        "import pytz                                       #Importação da biblioteca de fuso horario.\n",
        "\n",
        "fusoHorario = pytz.timezone(\"America/Sao_Paulo\")  #Definição a partir da biblioteca o fuso horario de sao paulo/america.\n",
        "\n",
        "data_hora = datetime.datetime.now(fusoHorario)    #Criação da variavel que chama as horas, com o fuso horario definido.\n",
        "hora_atual = data_hora.strftime(\"%H:%M:%S\")       #Criação da variavel para mostrar apenas as horas.\n",
        "data_atual = data_hora.strftime(\"%d/%m/%Y\")       #Criando a Variavel para mostrar apenas a data.\n",
        "\n",
        "print(\"A hora atual é:\", hora_atual)\n",
        "print(data_atual)"
      ]
    },
    {
      "cell_type": "markdown",
      "metadata": {
        "id": "lLKvaL0mDSJV"
      },
      "source": [
        "Realizando a criação de um relogio. Definindo o fuso horario brasileiro/sao paulo. Com a atualização da hora em tempo real."
      ]
    },
    {
      "cell_type": "code",
      "execution_count": null,
      "metadata": {
        "colab": {
          "base_uri": "https://localhost:8080/"
        },
        "id": "bhV3RpQfCE-R",
        "outputId": "da6f5fc7-5dd9-4d43-c915-b8bd1a188b22"
      },
      "outputs": [
        {
          "name": "stdout",
          "output_type": "stream",
          "text": [
            "Hora: 15:55:41"
          ]
        }
      ],
      "source": [
        "import datetime                                         #Importação da biblioteca de horas.\n",
        "import pytz                                             #Importação da biblioteca de fuso horario.\n",
        "import time                                             #Importação da biblioteca de definição de valores de tempo.\n",
        "\n",
        "fusoHorario = pytz.timezone(\"America/Sao_Paulo\")        #Definição a partir da biblioteca o fuso horario de sao paulo/america.\n",
        "\n",
        "while True:\n",
        "    data_hora = datetime.datetime.now(fusoHorario)      #Criação da variavel que chama as horas, com o fuso horario definido.\n",
        "    hora_atual = data_hora.strftime(\"%H:%M:%S\")         #Criação da variavel para mostrar apenas as horas.\n",
        "\n",
        "    print(\"\\rHora:\", hora_atual, end=\"\", flush=True)    #Apresentação da hora atualizada, e limpando a linha e atualizando a cada um segundo com a hora exata\n",
        "    time.sleep(1)"
      ]
    },
    {
      "cell_type": "markdown",
      "metadata": {
        "id": "JseM6Yn7dbDP"
      },
      "source": [
        "Junção dos codigos!"
      ]
    },
    {
      "cell_type": "code",
      "execution_count": 55,
      "metadata": {
        "colab": {
          "base_uri": "https://localhost:8080/"
        },
        "id": "Ck-aO90RgfBe",
        "outputId": "d70e24e4-7ba9-4616-802d-f21a681348be"
      },
      "outputs": [
        {
          "name": "stdout",
          "output_type": "stream",
          "text": [
            "Digite o que deseja ver: \n",
            "Calendário. \n",
            "Horas\n",
            "calendario\n",
            "Digite se deseja ver o calendário: \n",
            "Anual \n",
            "Mensal\n",
            "anual\n",
            "Digite o Ano: 2023\n",
            "Este é o Calendário do ano 2023\n",
            "-------------------------------------\n",
            "                                  2023\n",
            "\n",
            "      January                   February                   March\n",
            "Mo Tu We Th Fr Sa Su      Mo Tu We Th Fr Sa Su      Mo Tu We Th Fr Sa Su\n",
            "                   1             1  2  3  4  5             1  2  3  4  5\n",
            " 2  3  4  5  6  7  8       6  7  8  9 10 11 12       6  7  8  9 10 11 12\n",
            " 9 10 11 12 13 14 15      13 14 15 16 17 18 19      13 14 15 16 17 18 19\n",
            "16 17 18 19 20 21 22      20 21 22 23 24 25 26      20 21 22 23 24 25 26\n",
            "23 24 25 26 27 28 29      27 28                     27 28 29 30 31\n",
            "30 31\n",
            "\n",
            "       April                      May                       June\n",
            "Mo Tu We Th Fr Sa Su      Mo Tu We Th Fr Sa Su      Mo Tu We Th Fr Sa Su\n",
            "                1  2       1  2  3  4  5  6  7                1  2  3  4\n",
            " 3  4  5  6  7  8  9       8  9 10 11 12 13 14       5  6  7  8  9 10 11\n",
            "10 11 12 13 14 15 16      15 16 17 18 19 20 21      12 13 14 15 16 17 18\n",
            "17 18 19 20 21 22 23      22 23 24 25 26 27 28      19 20 21 22 23 24 25\n",
            "24 25 26 27 28 29 30      29 30 31                  26 27 28 29 30\n",
            "\n",
            "        July                     August                  September\n",
            "Mo Tu We Th Fr Sa Su      Mo Tu We Th Fr Sa Su      Mo Tu We Th Fr Sa Su\n",
            "                1  2          1  2  3  4  5  6                   1  2  3\n",
            " 3  4  5  6  7  8  9       7  8  9 10 11 12 13       4  5  6  7  8  9 10\n",
            "10 11 12 13 14 15 16      14 15 16 17 18 19 20      11 12 13 14 15 16 17\n",
            "17 18 19 20 21 22 23      21 22 23 24 25 26 27      18 19 20 21 22 23 24\n",
            "24 25 26 27 28 29 30      28 29 30 31               25 26 27 28 29 30\n",
            "31\n",
            "\n",
            "      October                   November                  December\n",
            "Mo Tu We Th Fr Sa Su      Mo Tu We Th Fr Sa Su      Mo Tu We Th Fr Sa Su\n",
            "                   1             1  2  3  4  5                   1  2  3\n",
            " 2  3  4  5  6  7  8       6  7  8  9 10 11 12       4  5  6  7  8  9 10\n",
            " 9 10 11 12 13 14 15      13 14 15 16 17 18 19      11 12 13 14 15 16 17\n",
            "16 17 18 19 20 21 22      20 21 22 23 24 25 26      18 19 20 21 22 23 24\n",
            "23 24 25 26 27 28 29      27 28 29 30               25 26 27 28 29 30 31\n",
            "30 31\n",
            "\n",
            "-------------------------------------\n"
          ]
        }
      ],
      "source": [
        "def calendar(ano):\n",
        "    import calendar\n",
        "\n",
        "    if ano >= 1:\n",
        "        calendario = calendar.calendar(ano)\n",
        "        print(\"Este é o Calendário do ano\", ano)\n",
        "        print(\"-------------------------------------\")\n",
        "        print(calendario)\n",
        "        print(\"-------------------------------------\")\n",
        "\n",
        "def calendar_mes(mes, ano):\n",
        "    from calendar import month\n",
        "\n",
        "    if mes >= 1 and mes <= 12:\n",
        "        calendario = month(ano, mes)\n",
        "        print(\"Este é o Calendário do mês\", mes, \"de\", ano)\n",
        "        print(\"--------------------\")\n",
        "        print(calendario)\n",
        "        print(\"--------------------\")\n",
        "    else:\n",
        "        print(\"Mês Inválido\")\n",
        "\n",
        "def relogio():\n",
        "    import datetime\n",
        "    import pytz\n",
        "    import time\n",
        "\n",
        "    fusoHorario = pytz.timezone(\"America/Sao_Paulo\")\n",
        "\n",
        "    while True:\n",
        "        data_hora = datetime.datetime.now(fusoHorario)\n",
        "        hora_atual = data_hora.strftime(\"%H:%M:%S\")\n",
        "\n",
        "        print(\"\\rHora:\", hora_atual, end=\"\", flush=True)\n",
        "        time.sleep(1)\n",
        "        stop = input(\"\\nDeseja parar? (sim/nao) \")\n",
        "        if stop.lower() == \"sim\":\n",
        "            break\n",
        "\n",
        "selecao = input(\"Digite o que deseja ver: \\nCalendário. \\nHoras\\n\").strip().lower()\n",
        "\n",
        "if selecao == \"calendario\":\n",
        "    tipo_calendario = input(\"Digite se deseja ver o calendário: \\nAnual \\nMensal\\n\").strip().lower()\n",
        "    if tipo_calendario == \"anual\":\n",
        "        ano = int(input(\"Digite o Ano: \"))\n",
        "        calendar(ano)\n",
        "    elif tipo_calendario == \"mensal\":\n",
        "        ano = int(input(\"Digite o Ano: \"))\n",
        "        mes = int(input(\"Digite o mês: \"))\n",
        "        calendar_mes(mes, ano)\n",
        "    else:\n",
        "        print(\"Opção Inválida\")\n",
        "elif selecao == \"horas\":\n",
        "    relogio()\n",
        "else:\n",
        "    print(\"Opção Inválida\")\n"
      ]
    },
    {
      "cell_type": "markdown",
      "metadata": {},
      "source": [
        "Tentativa de inclusão a Previsão do Tempo"
      ]
    },
    {
      "cell_type": "code",
      "execution_count": 5,
      "metadata": {},
      "outputs": [
        {
          "name": "stdout",
          "output_type": "stream",
          "text": [
            "Collecting requests\n",
            "  Downloading requests-2.31.0-py3-none-any.whl (62 kB)\n",
            "     ---------------------------------------- 0.0/62.6 kB ? eta -:--:--\n",
            "     ---------------------------------------- 62.6/62.6 kB 1.6 MB/s eta 0:00:00\n",
            "Collecting idna<4,>=2.5\n",
            "  Downloading idna-3.4-py3-none-any.whl (61 kB)\n",
            "     ---------------------------------------- 0.0/61.5 kB ? eta -:--:--\n",
            "     ---------------------------------------- 61.5/61.5 kB 1.7 MB/s eta 0:00:00\n",
            "Collecting urllib3<3,>=1.21.1\n",
            "  Downloading urllib3-2.0.4-py3-none-any.whl (123 kB)\n",
            "     ---------------------------------------- 0.0/123.9 kB ? eta -:--:--\n",
            "     -------------------------------------- 123.9/123.9 kB 3.7 MB/s eta 0:00:00\n",
            "Collecting charset-normalizer<4,>=2\n",
            "  Downloading charset_normalizer-3.2.0-cp310-cp310-win_amd64.whl (96 kB)\n",
            "     ---------------------------------------- 0.0/96.9 kB ? eta -:--:--\n",
            "     ---------------------------------------- 0.0/96.9 kB ? eta -:--:--\n",
            "     ------------ --------------------------- 30.7/96.9 kB ? eta -:--:--\n",
            "     -------------------------------------- - 92.2/96.9 kB 1.8 MB/s eta 0:00:01\n",
            "     -------------------------------------- - 92.2/96.9 kB 1.8 MB/s eta 0:00:01\n",
            "     -------------------------------------- 96.9/96.9 kB 795.2 kB/s eta 0:00:00\n",
            "Collecting certifi>=2017.4.17\n",
            "  Downloading certifi-2023.7.22-py3-none-any.whl (158 kB)\n",
            "     ---------------------------------------- 0.0/158.3 kB ? eta -:--:--\n",
            "     -------------------------------------- 158.3/158.3 kB 4.8 MB/s eta 0:00:00\n",
            "Installing collected packages: urllib3, idna, charset-normalizer, certifi, requests\n",
            "Successfully installed certifi-2023.7.22 charset-normalizer-3.2.0 idna-3.4 requests-2.31.0 urllib3-2.0.4\n",
            "Note: you may need to restart the kernel to use updated packages.\n"
          ]
        },
        {
          "name": "stderr",
          "output_type": "stream",
          "text": [
            "\n",
            "[notice] A new release of pip is available: 23.0.1 -> 23.2.1\n",
            "[notice] To update, run: C:\\Users\\nandi\\AppData\\Local\\Microsoft\\WindowsApps\\PythonSoftwareFoundation.Python.3.10_qbz5n2kfra8p0\\python.exe -m pip install --upgrade pip\n"
          ]
        }
      ],
      "source": [
        "pip install requests"
      ]
    },
    {
      "cell_type": "code",
      "execution_count": 19,
      "metadata": {},
      "outputs": [
        {
          "name": "stdout",
          "output_type": "stream",
          "text": [
            "{'coord': {'lon': -43.9378, 'lat': -19.9208}, 'weather': [{'id': 800, 'main': 'Clear', 'description': 'clear sky', 'icon': '01d'}], 'base': 'stations', 'main': {'temp': 295.6, 'feels_like': 295.1, 'temp_min': 294.9, 'temp_max': 296.01, 'pressure': 1026, 'humidity': 46}, 'visibility': 10000, 'wind': {'speed': 4.12, 'deg': 100}, 'clouds': {'all': 0}, 'dt': 1691329714, 'sys': {'type': 1, 'id': 8329, 'country': 'BR', 'sunrise': 1691313781, 'sunset': 1691354420}, 'timezone': -10800, 'id': 3470127, 'name': 'Belo Horizonte', 'cod': 200}\n"
          ]
        }
      ],
      "source": [
        "import requests\n",
        "\n",
        "API_KEY = \"db83ccbd24ab3e0a43d2898582412ab0\"\n",
        "cidade = \"belo horizonte\"#input(\"Digite a sua cidade: \")\n",
        "\n",
        "link = f\"https://api.openweathermap.org/data/2.5/weather?q={cidade}&appid={API_KEY}\"\n",
        "\n",
        "requisicao = requests.get(link)\n",
        "requisicao_dic = requisicao.json()\n",
        "descricao = requisicao_dic['weather'][0]['description']\n",
        "temperatura = requisicao_dic['main']['temp']\n",
        "print(requisicao_dic)\n",
        "#print (descricao, temperatura)\n",
        "\n"
      ]
    }
  ],
  "metadata": {
    "colab": {
      "authorship_tag": "ABX9TyPl0gB6n+593sK6OaCtMVSp",
      "provenance": []
    },
    "kernelspec": {
      "display_name": "Python 3",
      "name": "python3"
    },
    "language_info": {
      "codemirror_mode": {
        "name": "ipython",
        "version": 3
      },
      "file_extension": ".py",
      "mimetype": "text/x-python",
      "name": "python",
      "nbconvert_exporter": "python",
      "pygments_lexer": "ipython3",
      "version": "3.10.11"
    }
  },
  "nbformat": 4,
  "nbformat_minor": 0
}
