{
  "nbformat": 4,
  "nbformat_minor": 0,
  "metadata": {
    "colab": {
      "provenance": [],
      "authorship_tag": "ABX9TyN44TzQzLIkyki1jGD14I87",
      "include_colab_link": true
    },
    "kernelspec": {
      "name": "python3",
      "display_name": "Python 3"
    },
    "language_info": {
      "name": "python"
    }
  },
  "cells": [
    {
      "cell_type": "markdown",
      "metadata": {
        "id": "view-in-github",
        "colab_type": "text"
      },
      "source": [
        "<a href=\"https://colab.research.google.com/github/LuisAlvesSilva/Python/blob/main/ExercicioPPT_Sequencial.ipynb\" target=\"_parent\"><img src=\"https://colab.research.google.com/assets/colab-badge.svg\" alt=\"Open In Colab\"/></a>"
      ]
    },
    {
      "cell_type": "markdown",
      "source": [
        "1. Faça um programa que receba três notas, calcule e mostre a média aritmética entre elas."
      ],
      "metadata": {
        "id": "oVHlS65kN9KB"
      }
    },
    {
      "cell_type": "code",
      "source": [
        "num1 = int(input(\"Digite o  primeiro número: \"))\n",
        "num2 = int(input(\"Digite o segundo número: \"))\n",
        "num3 = int(input(\"Digite o terceiro número: \"))\n",
        "\n",
        "med_Aritmetica = (num1 + num2 + num3) / 3  #Média aritmetica sempre vai ser a quantidade de número dividido por ele mesmo, exemplo: se for 3 números é dividido por 3, se for 4 número vai ser por 4 e assim consecutivamente.\n",
        "print (\"A média Aritmética dos números é: \", med_Aritmetica)"
      ],
      "metadata": {
        "colab": {
          "base_uri": "https://localhost:8080/"
        },
        "id": "q8CKVfddOCJx",
        "outputId": "1dfd3a4b-af3e-4495-b7d7-a1b3aef47003"
      },
      "execution_count": null,
      "outputs": [
        {
          "output_type": "stream",
          "name": "stdout",
          "text": [
            "Digite o  primeiro número: 6\n",
            "Digite o segundo número: 10\n",
            "Digite o terceiro número: 4\n",
            "A média Aritmética dos números é:  6.666666666666667\n"
          ]
        }
      ]
    },
    {
      "cell_type": "markdown",
      "source": [
        "2. Faça um programa que receba o ano de nascimento de uma pessoa, o ano atual e imprima:\n",
        "\n",
        "*   A idade da pessoa no ano atual\n",
        "*   A idade que a pessoa terá em 2050\n",
        "\n"
      ],
      "metadata": {
        "id": "go2fzUEkPShZ"
      }
    },
    {
      "cell_type": "code",
      "source": [
        "ano_Nascimento = int(input(\"Digite seu ano de Nascimento: \"))\n",
        "ano_Atual = int(input(\"Digite o ano que estamos: \"))\n",
        "\n",
        "idade = ano_Atual - ano_Nascimento\n",
        "print (\"Sua idade é: \", idade, \"Anos\")"
      ],
      "metadata": {
        "colab": {
          "base_uri": "https://localhost:8080/"
        },
        "id": "i-4kLV37Pgen",
        "outputId": "ea353d4c-3d1c-4c1d-ba78-5c1336baaa2d"
      },
      "execution_count": null,
      "outputs": [
        {
          "output_type": "stream",
          "name": "stdout",
          "text": [
            "Digite seu ano de Nascimento: 1997\n",
            "Digite o ano que estamos: 2023\n",
            "Sua idade é:  26 Anos\n"
          ]
        }
      ]
    },
    {
      "cell_type": "markdown",
      "source": [
        "3. Faça um programa que receba a cotação do dólar em reais, e um valor que o usuário possui em dólares. Imprima este valor em reais."
      ],
      "metadata": {
        "id": "RXknFnL8PYD4"
      }
    },
    {
      "cell_type": "code",
      "source": [
        "cotacao_Dolar = float(input(\"Digite quanto vale o Dolar hoje: \"))\n",
        "dolar = float(input(\"Digite quantos dolares você tem: \"))\n",
        "\n",
        "dolar_Reais = cotacao_Dolar * dolar\n",
        "print (\"Você possui: \", dolar_Reais, \"Reais\")"
      ],
      "metadata": {
        "colab": {
          "base_uri": "https://localhost:8080/"
        },
        "id": "0rlnPk13QNOw",
        "outputId": "9dae7030-6458-4d19-cf16-8f2db4c6debc"
      },
      "execution_count": null,
      "outputs": [
        {
          "output_type": "stream",
          "name": "stdout",
          "text": [
            "Digite quanto vale o Dolar hoje: 5.22\n",
            "Digite quantos dolares você tem: 100\n",
            "Você possui:  522.0 Reais\n"
          ]
        }
      ]
    },
    {
      "cell_type": "markdown",
      "source": [
        "4. Faça um programa que receba o salário de um funcionário, calcule e mostre o novo salário, sabendo-se que este sofreu um aumento de 25%.\n"
      ],
      "metadata": {
        "id": "rd913mCnQMfx"
      }
    },
    {
      "cell_type": "code",
      "source": [
        "salario_Atual = float(input(\"Digite o quanto você recebe:\"))\n",
        "aumento_Salario = 0.25\n",
        "\n",
        "novo_Salario = (salario_Atual * aumento_Salario) + salario_Atual\n",
        "print (f\"Seu novo salário será: {novo_Salario} Reais \\nApós o aumento de 25%\")"
      ],
      "metadata": {
        "colab": {
          "base_uri": "https://localhost:8080/"
        },
        "id": "dbkaujJPRBhx",
        "outputId": "6d593d3b-665e-46fa-9dc7-de64f371430a"
      },
      "execution_count": null,
      "outputs": [
        {
          "output_type": "stream",
          "name": "stdout",
          "text": [
            "Digite o quanto você recebe:200\n",
            "Seu novo salário será: 250.0 Reais \n",
            "Após o aumento de 25%\n"
          ]
        }
      ]
    },
    {
      "cell_type": "markdown",
      "source": [
        "5. Faça um programa que calcule e mostre a área de um losango AREA = (DIAGONAL MAIOR * DIAGONAL MENOR)/2\n"
      ],
      "metadata": {
        "id": "OXJBWrQHSSOw"
      }
    },
    {
      "cell_type": "code",
      "source": [
        "diagonal1 = float(input(\"Digite a diagonal maior do Losango: \"))\n",
        "diagonal2 = float(input(\"Digite a diagona menor do Losango: \"))\n",
        "\n",
        "area_Losango = (diagonal1 * diagonal2) / 2\n",
        "print (f\"A Área do Losange é: {area_Losango}\")"
      ],
      "metadata": {
        "colab": {
          "base_uri": "https://localhost:8080/"
        },
        "id": "aWa7In0NSWrG",
        "outputId": "045f8552-1aaf-47bf-eca8-37ecc42c0762"
      },
      "execution_count": null,
      "outputs": [
        {
          "output_type": "stream",
          "name": "stdout",
          "text": [
            "Digite a diagonal maior do Losango: 5\n",
            "Digite a diagona menor do Losango: 2.3\n",
            "A Área do Losange é: 5.75\n"
          ]
        }
      ]
    },
    {
      "cell_type": "markdown",
      "source": [
        "6. Faça um programa que receba uma temperatura em Celsius, calcule e mostre essa temperatura em Fahrenheit (F = (C*1,8) + 32)\n"
      ],
      "metadata": {
        "id": "EVT1tJoWUOag"
      }
    },
    {
      "cell_type": "code",
      "source": [
        "temp_Celsius = int(input(\"Digite quantos graus Celsius está: \"))\n",
        "\n",
        "farenheit = (temp_Celsius * 1.8) + 32\n",
        "print (f\"Está Fazendo: {farenheit} Graus Farenheit \\nA temperatura de {temp_Celsius} Graus Celsius\")"
      ],
      "metadata": {
        "colab": {
          "base_uri": "https://localhost:8080/"
        },
        "id": "Up4ZpxhgUSC4",
        "outputId": "2c00ddf8-68b7-4961-e339-20276b8108bb"
      },
      "execution_count": null,
      "outputs": [
        {
          "output_type": "stream",
          "name": "stdout",
          "text": [
            "Digite quantos graus Celsius está: 29\n",
            "Está Fazendo: 84.2 Graus Farenheit \n",
            "A temperatura de 29 Graus Celsius\n"
          ]
        }
      ]
    },
    {
      "cell_type": "markdown",
      "source": [
        "7. Faça um programa que receba o valor do salário mínimo e o valor do salário de um funcionário, calcule e mostre a quantidade de salários mínimos que ganha esse funcionário.\n"
      ],
      "metadata": {
        "id": "5mZHTKyYVuX4"
      }
    },
    {
      "cell_type": "code",
      "source": [
        "salario = int(input(\"Digite o quanto é o seu salário: \"))\n",
        "salario_minimo = 1320\n",
        "\n",
        "quant_salario_minimo = salario / salario_minimo\n",
        "print (f\"Você recebe {quant_salario_minimo} Salarios Minimos.\")"
      ],
      "metadata": {
        "id": "Pbuzd4Z3Vvjf",
        "colab": {
          "base_uri": "https://localhost:8080/"
        },
        "outputId": "5eff066e-4796-4c9e-9072-4f05879e4a99"
      },
      "execution_count": null,
      "outputs": [
        {
          "output_type": "stream",
          "name": "stdout",
          "text": [
            "Digite o quanto é o seu salário: 500\n",
            "Você recebe 0.3787878787878788 Salarios Minimos.\n"
          ]
        }
      ]
    },
    {
      "cell_type": "markdown",
      "source": [
        "8. . Faça um programa que receba o peso de uma pessoa, calcule e mostre:\n",
        "\n",
        "a)   O seu novo peso, se a pessoa engordar 15% sobre o peso digitado  \n",
        "b)   O seu novo peso, se a pessoa emagrecer 20% sobre o peso digitado\n"
      ],
      "metadata": {
        "id": "kUYafvGQVzIQ"
      }
    },
    {
      "cell_type": "code",
      "source": [
        "peso_Atual = float(input(\"Digite seu peso atual: \"))\n",
        "\n",
        "peso_15 = peso_Atual * 0.15\n",
        "peso_20 = peso_Atual * 0.20\n",
        "peso_Engordar = peso_Atual + peso_15\n",
        "peso_Emagrecer = peso_Atual - peso_20\n",
        "\n",
        "print (f\"Se você engordar 15% vai ficar com o peso de: {peso_Engordar} \\nSe você emagrecer 20% vai ficar com o peso de: {peso_Emagrecer}\")"
      ],
      "metadata": {
        "colab": {
          "base_uri": "https://localhost:8080/"
        },
        "id": "1VX934KRWGOo",
        "outputId": "c989c83f-3cc6-4c3f-9776-d11d58920b12"
      },
      "execution_count": null,
      "outputs": [
        {
          "output_type": "stream",
          "name": "stdout",
          "text": [
            "Digite seu peso atual: 98\n",
            "Se você engordar 15% vai ficar com o peso de: 112.7 \n",
            "Se você emagrecer 20% vai ficar com o peso de: 78.4\n"
          ]
        }
      ]
    },
    {
      "cell_type": "markdown",
      "source": [
        "9. Faça um programa que receba o valor dos catetos de um triângulo, calcule e mostre o valor da hipotenusa.\n"
      ],
      "metadata": {
        "id": "a4om8ACGXfFB"
      }
    },
    {
      "cell_type": "code",
      "source": [
        "# lado1 =int(input(\"Digite o tamanho do primeiro lado do triangulo: \")) \n",
        "# lado2 =int(input(\"Digite o tamanho do segundo lado do triangulo: \")) \n",
        "# lado3 =int(input(\"Digite o tamanho do terceiro lado do triangulo: \")) \n",
        "\n"
      ],
      "metadata": {
        "id": "gOyqd566XisG"
      },
      "execution_count": null,
      "outputs": []
    },
    {
      "cell_type": "markdown",
      "source": [
        "10. Faça um programa que receba o raio, calcule e mostre:\n",
        "O comprimento de uma esfera (C = 2 *  π  * R)\n",
        "A área de uma esfera (A = π * R2)\n",
        "O volume de uma esfera (V = ¾ *  π  * R3)\n"
      ],
      "metadata": {
        "id": "4k1o4DJLXi5A"
      }
    },
    {
      "cell_type": "code",
      "source": [
        "# raio = float(input(\"Digite o raio do circulo: \"))\n",
        "# raio2 = float(input(\"Digite o raio do circulo: \"))\n",
        "# raio3 = float(input(\"Digite o raio do circulo: \"))\n",
        "\n",
        "# comprimento_Esfera = 2 * 4.16 * raio\n",
        "# area_Esfera = 4.16 * raio2\n",
        "# volume_Esfera = 3/4 * 4.16 * raio3\n",
        "\n",
        "# print (\"O comprimento da esfera é: \")\n",
        "# print (\"A área da esfera é: \")\n",
        "# print (\"O volume da esfera é: \")"
      ],
      "metadata": {
        "id": "zcy3VKpkXnHl",
        "colab": {
          "base_uri": "https://localhost:8080/"
        },
        "outputId": "df88b8fc-42a1-437f-b7a9-66cf91b3e450"
      },
      "execution_count": null,
      "outputs": [
        {
          "output_type": "stream",
          "name": "stdout",
          "text": [
            "Digite o raio do circulo: 3\n",
            "Digite o raio do circulo: 5\n",
            "Digite o raio do circulo: 4\n",
            "O comprimento da esfera é: \n",
            "A área da esfera é: \n",
            "O volume da esfera é: \n"
          ]
        }
      ]
    },
    {
      "cell_type": "markdown",
      "source": [
        "11. Faça um programa que solicite ao usuário que informe os coeficientes a, b e c de uma equação de segundo grau, e que imprima as raízes desta equação (considere que os valores informados sempre retornarão raízes reais para a equação).\n"
      ],
      "metadata": {
        "id": "tRSQEG_UXniu"
      }
    },
    {
      "cell_type": "code",
      "source": [],
      "metadata": {
        "id": "KY5qA4ZeXqyX"
      },
      "execution_count": null,
      "outputs": []
    },
    {
      "cell_type": "markdown",
      "source": [
        "12. Faça um programa que calcule e mostre a tabuada de multiplicação de um número digitado pelo usuário\n"
      ],
      "metadata": {
        "id": "gZ1D0JxgXq8e"
      }
    },
    {
      "cell_type": "code",
      "source": [],
      "metadata": {
        "id": "kNLge5VNXujG"
      },
      "execution_count": null,
      "outputs": []
    }
  ]
}