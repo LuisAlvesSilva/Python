{
  "nbformat": 4,
  "nbformat_minor": 0,
  "metadata": {
    "colab": {
      "provenance": [],
      "authorship_tag": "ABX9TyOsYKVzOy4MUR51X/LA/G4I",
      "include_colab_link": true
    },
    "kernelspec": {
      "name": "python3",
      "display_name": "Python 3"
    },
    "language_info": {
      "name": "python"
    }
  },
  "cells": [
    {
      "cell_type": "markdown",
      "metadata": {
        "id": "view-in-github",
        "colab_type": "text"
      },
      "source": [
        "<a href=\"https://colab.research.google.com/github/LuisAlvesSilva/Python/blob/main/Exercicio_01.ipynb\" target=\"_parent\"><img src=\"https://colab.research.google.com/assets/colab-badge.svg\" alt=\"Open In Colab\"/></a>"
      ]
    },
    {
      "cell_type": "markdown",
      "source": [
        "Estrutural Sequencial"
      ],
      "metadata": {
        "id": "Dg6YkAnTrnuI"
      }
    },
    {
      "cell_type": "markdown",
      "source": [
        "1. Faça um programa que mostre a mensagem \"Olá Mundo\" na tela."
      ],
      "metadata": {
        "id": "q9SR5U46rxON"
      }
    },
    {
      "cell_type": "code",
      "source": [
        "print (\"Olá Mundo\")"
      ],
      "metadata": {
        "colab": {
          "base_uri": "https://localhost:8080/"
        },
        "id": "0gpEsVjws1A8",
        "outputId": "ab6bbf9c-088f-4d9d-cd37-77c4efe1060c"
      },
      "execution_count": null,
      "outputs": [
        {
          "output_type": "stream",
          "name": "stdout",
          "text": [
            "Olá Mundo\n"
          ]
        }
      ]
    },
    {
      "cell_type": "markdown",
      "source": [
        "2. Faça um programa que peça um número e então mostre a mensagem *O Número informado é: [numero]*"
      ],
      "metadata": {
        "id": "omoB6FJus-RN"
      }
    },
    {
      "cell_type": "code",
      "source": [
        "numero = int(input(\"Digite um número: \"))\n",
        "\n",
        "print (\"O Número informado é:\",numero)"
      ],
      "metadata": {
        "colab": {
          "base_uri": "https://localhost:8080/"
        },
        "id": "uQ4r0oF9tWXA",
        "outputId": "d95ec21a-d4b9-4b31-dc5b-4fb93552b424"
      },
      "execution_count": null,
      "outputs": [
        {
          "output_type": "stream",
          "name": "stdout",
          "text": [
            "Digite um número: 5\n",
            "O Número informado é: 5\n"
          ]
        }
      ]
    },
    {
      "cell_type": "markdown",
      "source": [
        "3.Faça um programa que peça dois números e imprima a soma."
      ],
      "metadata": {
        "id": "X0HV75q4tygl"
      }
    },
    {
      "cell_type": "code",
      "source": [
        "numero1 = int(input(\"Digite o primeiro número: \"))\n",
        "numero2 = int(input(\"Digite o segundo número: \"))\n",
        "\n",
        "soma = numero1 + numero2\n",
        "print (\"A soma dos Números é: \", soma) "
      ],
      "metadata": {
        "colab": {
          "base_uri": "https://localhost:8080/"
        },
        "id": "hwpgFN5xt9Qn",
        "outputId": "29b74b1a-eae9-4e7d-a825-3944b5368e35"
      },
      "execution_count": null,
      "outputs": [
        {
          "output_type": "stream",
          "name": "stdout",
          "text": [
            "Digite o primeiro número: 5\n",
            "Digite o segundo número: 50\n",
            "A soma dos Números é:  55\n"
          ]
        }
      ]
    },
    {
      "cell_type": "markdown",
      "source": [
        "4. Faça um programa que peça as 4 notas bimestrais e mostre a média."
      ],
      "metadata": {
        "id": "vdT1Nim5ueRB"
      }
    },
    {
      "cell_type": "code",
      "source": [
        "nota1 = float(input(\"Digite a primeira nota: \"))\n",
        "nota2 = float(input(\"Digite a segunda nota: \"))\n",
        "nota3 = float(input(\"Digite a terceira nota:\"))\n",
        "nota4 = float(input(\"Digite a quarta nota: \"))\n",
        "\n",
        "media = (nota1 + nota2 + nota3 + nota4)/4\n",
        "print (\"Sua média foi: \", media)"
      ],
      "metadata": {
        "colab": {
          "base_uri": "https://localhost:8080/"
        },
        "id": "jdvczzG0ulHq",
        "outputId": "72055d08-6016-4686-e421-52886c3946e9"
      },
      "execution_count": null,
      "outputs": [
        {
          "output_type": "stream",
          "name": "stdout",
          "text": [
            "Digite a primeira nota: 8\n",
            "Digite a segunda nota: 5.6\n",
            "Digite a terceira nota:2.8\n",
            "Digite a quarta nota: 7\n",
            "Sua média foi:  5.85\n"
          ]
        }
      ]
    },
    {
      "cell_type": "markdown",
      "source": [
        "5. Faça um programa que converta metros para centímetros."
      ],
      "metadata": {
        "id": "tJbk4CgJvT5Q"
      }
    },
    {
      "cell_type": "code",
      "source": [
        "metros = float(input(\"Digite quantos metros deseja converter para centimetros:\"))\n",
        "\n",
        "centimetros = metros * 100\n",
        "print (\"São:\", centimetros, \"Centimetros\")"
      ],
      "metadata": {
        "colab": {
          "base_uri": "https://localhost:8080/"
        },
        "id": "qQWP9vS3vbKD",
        "outputId": "74ab1c3e-e0ad-47db-b125-7dbfceb7bae8"
      },
      "execution_count": null,
      "outputs": [
        {
          "output_type": "stream",
          "name": "stdout",
          "text": [
            "Digite quantos metros deseja converter para centimetros:10\n",
            "São: 1000.0 Centimetros\n"
          ]
        }
      ]
    },
    {
      "cell_type": "markdown",
      "source": [
        "6. Faça um programa que peça o raio de um círculo, calcule e mostre sua área."
      ],
      "metadata": {
        "id": "ANSO7Y-ZwEKx"
      }
    },
    {
      "cell_type": "code",
      "source": [
        "raio = float(input(\"Digite o raio do círculo: \"))\n",
        "\n",
        "area = 3.14 * (raio ** 2)\n",
        "print (\"A área do círculo é: \", area)"
      ],
      "metadata": {
        "colab": {
          "base_uri": "https://localhost:8080/"
        },
        "id": "G8dWBiq6wNj5",
        "outputId": "20f5cf03-4d44-4a66-fe93-2f7e5a4034a9"
      },
      "execution_count": null,
      "outputs": [
        {
          "output_type": "stream",
          "name": "stdout",
          "text": [
            "Digite o raio do círculo: 25\n",
            "A área do círculo é:  1962.5\n"
          ]
        }
      ]
    },
    {
      "cell_type": "markdown",
      "source": [
        "7. Faça um programa que calcule a área de um quadrado, em seguida mostre o dobro desta área para o usuário."
      ],
      "metadata": {
        "id": "qCPVYoXU0lUn"
      }
    },
    {
      "cell_type": "code",
      "source": [
        "largura = float(input(\"Digite a largura do quadrado: \"))\n",
        "altura = float(input(\"Digite a altura do quadrado: \"))\n",
        "\n",
        "area = altura * largura\n",
        "dobro_area = area * 2\n",
        "print (\"O dobro da área é: \", dobro_area)"
      ],
      "metadata": {
        "colab": {
          "base_uri": "https://localhost:8080/"
        },
        "id": "3NbPF2E-01bR",
        "outputId": "e6a56bca-744f-4221-d7b1-8703760ce8b9"
      },
      "execution_count": null,
      "outputs": [
        {
          "output_type": "stream",
          "name": "stdout",
          "text": [
            "Digite a largura do quadrado: 2\n",
            "Digite a altura do quadrado: 4\n",
            "O dobro da área é:  16.0\n"
          ]
        }
      ]
    },
    {
      "cell_type": "markdown",
      "source": [
        "8. Faça um programa que pergunte quanto voce ganha por hora e o número de horas trabalhadas no mês. Calcule e mostre o total do seu salário no referido mês."
      ],
      "metadata": {
        "id": "qsyCddvS4HqW"
      }
    },
    {
      "cell_type": "code",
      "source": [
        "hora_trab = float(input(\"Digite quantas horas Trabalhadas por mês: \"))\n",
        "valor_hora = float(input(\"Digite o valor da hora trabalhada: \"))\n",
        "\n",
        "valor_mes= valor_hora * hora_trab\n",
        "print (\"O Valor recebido por mês é: R$\", valor_mes)"
      ],
      "metadata": {
        "colab": {
          "base_uri": "https://localhost:8080/"
        },
        "id": "Wsb9KJfE7Mz4",
        "outputId": "8bbf7d55-5412-4612-a861-196f96a57109"
      },
      "execution_count": null,
      "outputs": [
        {
          "output_type": "stream",
          "name": "stdout",
          "text": [
            "Digite quantas horas Trabalhadas por mês: 44\n",
            "Digite o valor da hora trabalhada: 50\n",
            "O Valor recebido por mês é: R$ 2200.0\n"
          ]
        }
      ]
    },
    {
      "cell_type": "markdown",
      "source": [
        "9. Faça um programa que peça a temperatura em graus Farenheit, transforme e mostre a temperatura em graus Celsius."
      ],
      "metadata": {
        "id": "WrHa8ZGg8z_l"
      }
    },
    {
      "cell_type": "code",
      "source": [
        "farenheit = float(input(\"informe quantos graus Farenheit: \"))\n",
        "\n",
        "celsius = (5 * (farenheit - 32) / 9)\n",
        "print (\"A conversão de Farenheit para Celsius é: \", celsius, \"graus Celsius\")"
      ],
      "metadata": {
        "colab": {
          "base_uri": "https://localhost:8080/"
        },
        "id": "n0qcHqBA9BFp",
        "outputId": "18933b72-32a2-4e90-c009-c06d33e36ad9"
      },
      "execution_count": null,
      "outputs": [
        {
          "output_type": "stream",
          "name": "stdout",
          "text": [
            "informe quantos graus Farenheit: 44\n",
            "A conversão de Farenheit para Celsius é:  6.666666666666667 graus Celsius\n"
          ]
        }
      ]
    },
    {
      "cell_type": "markdown",
      "source": [
        "10. Faça um programa que peça a temperatura em graus Celsius, transforme e mostre em graus Farenheit."
      ],
      "metadata": {
        "id": "wpU1m6R3ABL_"
      }
    },
    {
      "cell_type": "code",
      "source": [
        "celsius = float(input(\"Informe quantos graus Celsius: \"))\n",
        "\n",
        "farenheit = (celsius * 1.8) + 32\n",
        "print (\"A conversão de Celsius para Farenheit é: \", farenheit, \" graus Farenheit\")"
      ],
      "metadata": {
        "colab": {
          "base_uri": "https://localhost:8080/"
        },
        "id": "KT6inQaqALYZ",
        "outputId": "57983013-ed5e-44d4-d506-eecb1dd9aad1"
      },
      "execution_count": null,
      "outputs": [
        {
          "output_type": "stream",
          "name": "stdout",
          "text": [
            "Informe quantos graus Celsius: 32\n",
            "A conversão de Celsius para Farenheit é:  89.6  graus Farenheit\n"
          ]
        }
      ]
    },
    {
      "cell_type": "markdown",
      "source": [
        "11. Faça um programa que peça 2 números inteiros e um número real. Calcule e mostre:\n",
        "a. o produto do dobro do primeiro com a metado do \n",
        "\n",
        "a. o produto do dobro do primeiro com a metado do\n",
        "\n",
        "b. a soma do triplo do primeiro com o terceiro.\n",
        "\n",
        "c. o terceiro elevado ao cubo."
      ],
      "metadata": {
        "id": "5Eaayn9HDXrU"
      }
    },
    {
      "cell_type": "code",
      "source": [
        "numero_int1 = int(input(\"Digite o primeiro número: \"))\n",
        "numero_int2 = int(input(\"Digite o segundo número: \"))\n",
        "numero_real = float(input(\"Digite o terceiro número: \"))\n",
        "\n",
        "dobro_metade = (numero_int1 * 2) + (numero_int2 / 2)\n",
        "soma_triplo = (numero_int1 * 3) + numero_real\n",
        "elevado = numero_real ** 3\n",
        "\n",
        "print (\"A soma do dobro do primeiro número com a metade do segundo número é: \", dobro_metade)\n",
        "print (\"A soma do triplo do primeiro número com o terceiro número é: \", soma_triplo)\n",
        "print (\"O terceiro número elevado ao cubo\", elevado)"
      ],
      "metadata": {
        "colab": {
          "base_uri": "https://localhost:8080/"
        },
        "id": "p1JHek_LFCfc",
        "outputId": "272a3f87-8859-4c4e-cab4-3663e890a7a7"
      },
      "execution_count": null,
      "outputs": [
        {
          "output_type": "stream",
          "name": "stdout",
          "text": [
            "Digite o primeiro número: 8\n",
            "Digite o segundo número: 5\n",
            "Digite o terceiro número: 9.1\n",
            "A soma do dobro do primeiro número com a metade do segundo número é:  18.5\n",
            "A soma do triplo do primeiro número com o terceiro número é:  33.1\n",
            "O terceiro número elevado ao cubo 753.5709999999999\n"
          ]
        }
      ]
    },
    {
      "cell_type": "markdown",
      "source": [
        "12. Tendo como dados de entrada a altura de uma pessoa, contrua um algoritmo que calcule seu peso ideal, usando a seguinte formula: (72.7*altura)-58"
      ],
      "metadata": {
        "id": "nYxpAXguF0s1"
      }
    },
    {
      "cell_type": "code",
      "source": [
        "altura = float(input(\"Digite sua Altura: \"))\n",
        "\n",
        "peso_ideal = (72.7 * altura) - 58\n",
        "print (\"O seu peso ideal é: \", peso_ideal)"
      ],
      "metadata": {
        "colab": {
          "base_uri": "https://localhost:8080/"
        },
        "id": "RNBtJp7AGNj4",
        "outputId": "c0e488ee-ab78-4659-a660-b1a778e124b2"
      },
      "execution_count": null,
      "outputs": [
        {
          "output_type": "stream",
          "name": "stdout",
          "text": [
            "Digite sua Altura: 1.92\n",
            "O seu peso ideal é:  81.584\n"
          ]
        }
      ]
    },
    {
      "cell_type": "markdown",
      "source": [
        "13. Tendo como dado de entrada a altura (h) de uma pessoa, contrua um algoritmo que calcule seu peso ideal, utilizando as seguintes formulas:\n",
        "\n",
        "1.  Para Homens: (72.7*h) - 58\n",
        "2.  Para Mulheres: (62.1*h) - 44.7\n",
        "\n",
        "\n"
      ],
      "metadata": {
        "id": "9jd1i_hDGN23"
      }
    },
    {
      "cell_type": "code",
      "source": [
        "selecao = int(input(\"Se você for homem digite 1, se você for mulher digite 2: \"))\n",
        "if selecao == 1 :\n",
        "  altura = float(input(\"Digite a sua altura: \"))\n",
        "  homem = (72.7 * altura) - 58 \n",
        "  print (\"Seu peso ideal é: \", homem)\n",
        "\n",
        "\n",
        "elif selecao == 2 :\n",
        "  altura = float(input(\"Digite a sua altura: \"))\n",
        "  mulher = (62.1 * altura) - 44.7\n",
        "  print (\"Seu peso ideal é: \", mulher)\n"
      ],
      "metadata": {
        "colab": {
          "base_uri": "https://localhost:8080/"
        },
        "id": "AKWIO1CRGsC4",
        "outputId": "a4ee1637-7d2b-468e-9c01-784dc656aa01"
      },
      "execution_count": null,
      "outputs": [
        {
          "name": "stdout",
          "output_type": "stream",
          "text": [
            "Se você for homem digite 1, se você for mulher digite 2: 0\n"
          ]
        }
      ]
    },
    {
      "cell_type": "markdown",
      "source": [
        "14. João Papo-de-Pescador, homen de bem, comprou um mocrocomputador para controlar o rendimento diário de seu trabalho. Toda vez que ele traz um peso de peixes maior que o estabelecido pelo regulamento de pesca do estado de São Paulo (50 quilos) deve pagar uma multa de R$ 4,00 por quilo excedente. João precisa que você faça um programa que leia a variável *peso* (peso de peixes) e calcule o excesso. Gravar na variável *excesso* a quantidade de quilos além do limite e na variável *multa* o valor da multa que João deverá pagar. Imprima os dados do programa com as mensagens adequadas."
      ],
      "metadata": {
        "id": "4NSj5gtoGtPP"
      }
    },
    {
      "cell_type": "code",
      "source": [
        "peso_px = float(input(\"Digite quantos quilos de peixe você pescou: \"))\n",
        "if peso_px >= 51:\n",
        "  \n",
        "  excesso = peso_px - 50\n",
        "  multa_exce = excesso * 4\n",
        "\n",
        "  print (\"Total da multa: \" + str(multa_exce))\n",
        "else:\n",
        "    print (\"Não teve excesso\")\n"
      ],
      "metadata": {
        "colab": {
          "base_uri": "https://localhost:8080/"
        },
        "id": "kUC9ycxqId0Q",
        "outputId": "c8d16202-381a-42e7-fd11-c26e83416a9a"
      },
      "execution_count": null,
      "outputs": [
        {
          "output_type": "stream",
          "name": "stdout",
          "text": [
            "Digite quantos quilos de peixe você pescou: 52\n",
            "Total da multa: 8.0\n"
          ]
        }
      ]
    },
    {
      "cell_type": "markdown",
      "source": [
        "15. Faça um programa que pergunte quanto você ganha por hora e o número de horas trabalhadas no mês. Calcule e mostre o total do seu salário no referido mês, sabendo-se que são descontados 11% para o Imposto de Renda, 8% para o INSS e 5% para o sindicato, faça um programa que nos dê:\n",
        "\n",
        "a.   Salário Bruto\n",
        "\n",
        "b.   Quanto pagou ao Imposto de Renda\n",
        "\n",
        "c.   Quanto pagou ao INSS\n",
        "\n",
        "d.   Quanto pagou ao Sindicato\n",
        "\n",
        "e.   O Salário Líquido\n"
      ],
      "metadata": {
        "id": "oHkstjeaIqpb"
      }
    },
    {
      "cell_type": "code",
      "source": [
        "hora_trab = float(input(\"Digite quantas horas Trabalhadas por mês: \"))\n",
        "valor_hora = float(input(\"Digite o valor da hora trabalhada: \"))\n",
        "print (\"Descontos \\n Imposto de Renda de 11% \\n INSS 8% \\n Sindicato 5%\")\n",
        "\n",
        "valor_mes_bruto = valor_hora * hora_trab\n",
        "imposto_renda = valor_mes_bruto * 0.11\n",
        "inss = valor_mes_bruto * 0.08\n",
        "sindicato = valor_mes_bruto * 0.05\n",
        "val_liq = valor_mes_bruto - (imposto_renda + inss + sindicato)\n",
        "\n",
        "print (\"O Valor bruto recebido por mês é: R$\", valor_mes_bruto)\n",
        "print (\"Desconto do Imposto de Rende É: \", imposto_renda)\n",
        "print (\"Desconto do INSS é: \", inss)\n",
        "print (\"Desconto do Sindicato é: \", sindicato)\n",
        "print (\"Seu Salario Liquido apos todos os descontos é: \", val_liq)"
      ],
      "metadata": {
        "colab": {
          "base_uri": "https://localhost:8080/"
        },
        "id": "6B9z_MpCKDWs",
        "outputId": "5e500186-7f30-4a5a-afce-9a089d92cf17"
      },
      "execution_count": null,
      "outputs": [
        {
          "output_type": "stream",
          "name": "stdout",
          "text": [
            "Digite quantas horas Trabalhadas por mês: 44\n",
            "Digite o valor da hora trabalhada: 100\n",
            "Descontos \n",
            " Imposto de Renda de 11% \n",
            " INSS 8% \n",
            " Sindicato 5%\n",
            "O Valor bruto recebido por mês é: R$ 4400.0\n",
            "Desconto do Imposto de Rende É:  484.0\n",
            "Desconto do INSS é:  352.0\n",
            "Desconto do Sindicato é:  220.0\n",
            "Seu Salario Liquido apos todos os descontos é:  3344.0\n"
          ]
        }
      ]
    },
    {
      "cell_type": "markdown",
      "source": [
        "16. Faça um programa para um loja de tintas. O programa deverá pedir o tamanho em metros quadrados da área a ser pintada. Considere que a cobertura de tinta é de 1 litro para cada 3 metros quadrados e que a tinta é vendida em latas de 18 litros, que custam R$ 80,00. Informe ao usuário a quantidade de latas de tinta a serem compreadas e o preço total."
      ],
      "metadata": {
        "id": "spDRKNVaKaZU"
      }
    },
    {
      "cell_type": "code",
      "source": [
        "cobertura_tinta = 3\n",
        "capacidade_lata = 18\n",
        "preco_lata = 80.0\n",
        "\n",
        "tamanho_area = float(input(\"Digite quantos metros quadrados deseja pintar: \"))\n",
        "\n",
        "litros = tamanho_area / cobertura_tinta\n",
        "latas_inteiras = int(litros / capacidade_lata)\n",
        "if (litros % capacidade_lata != 0):\n",
        "  latas_inteiras += 1\n",
        "\n",
        "valor_total = latas_inteiras * preco_lata\n",
        "print (\"A quantidade necessaria para pintar é: \", litros, \"Litros\")\n",
        "print (\"A quantidade de latas de tinta necessaria é: \", latas_inteiras, \"Latas\")\n",
        "print (\"A quantidade que irá gastar é R$ \", valor_total)"
      ],
      "metadata": {
        "id": "AbLJlENIK4v1",
        "colab": {
          "base_uri": "https://localhost:8080/"
        },
        "outputId": "79b16206-8221-4d29-8062-e709d2b335b5"
      },
      "execution_count": null,
      "outputs": [
        {
          "output_type": "stream",
          "name": "stdout",
          "text": [
            "Digite quantos metros quadrados deseja pintar: 150\n",
            "A quantidade necessaria para pintar é:  50.0 Litros\n",
            "A quantidade de latas de tinta necessaria é:  3 Latas\n",
            "A quantidade que irá gastar é R$  240.0\n"
          ]
        }
      ]
    },
    {
      "cell_type": "markdown",
      "source": [
        "17.Faça um programa para um loja de tintas. O programa deverá pedir o tamanho em metros quadrados da área a ser pintada. Considere que a cobertura de tinta é de 1 litro para cada 6 metros quadrados e que a tinta é vendida em latas de 18 litros, que custam 80,00 reais ou em galões de 3,6 litros, que custam 25,00 reais.\n",
        "\n",
        "Informe ao usuário as qunatidades de tinta a serem compradas e os respectivos preços em 3 situações:\n",
        "\n",
        "*   Comprar apenas latas de 18 litros;\n",
        "*   Comprar apenas galões de 3,6 litros;\n",
        "*   misturar as latas e galões, de forma que o preço seja o menos. Acrescente 10% de folga e sempre arredonde os valores para cima, isto é, considere latas cheias.  \n",
        "\n",
        "\n"
      ],
      "metadata": {
        "id": "VkQ0MCsFWb4Y"
      }
    },
    {
      "cell_type": "code",
      "source": [
        "cobertura_tinta = 3\n",
        "capacidade_lata = 18\n",
        "capacidade_galao = 3.6\n",
        "preco_lata = 80.0\n",
        "preco_galao = 25.0\n",
        "\n",
        "tamanho_area = float(input(\"Digite quantos metros quadrados deseja pintar: \"))\n",
        "\n",
        "litros = tamanho_area / cobertura_tinta\n",
        "latas_inteiras = int(litros / capacidade_lata)\n",
        "galao_inteiro = int(litros / capacidade_galao)\n",
        "valor_total_lata = latas_inteiras * preco_lata\n",
        "valor_total_galao = galao_inteiro * 25\n",
        "print (\"A quantidade necessaria para pintar é: \", litros, \"Litros\")\n",
        "print (\"A quantidade de latas de tinta necessaria é: \", latas_inteiras, \"Latas\")\n",
        "print (\"A quantidade de galões de tinta necessaria é: \", galao_inteiro,\"Galões\")\n",
        "if valor_total_lata != 0 :\n",
        "  valor_total_lata +=1\n",
        "  print (\"A quantidade que irá gastar é R$ \", valor_total_lata)\n",
        "\n",
        "else:\n",
        "  galao_inteiro += 1\n",
        "  valor_total = (valor_total_lata + valor_total_galao)\n",
        "  print (\"A quantidade que irá gastar é R$ \",valor_total )\n",
        "  "
      ],
      "metadata": {
        "id": "JXYYwsDaZa4V",
        "colab": {
          "base_uri": "https://localhost:8080/"
        },
        "outputId": "615b3872-9b99-4684-a808-b138ab07a8e9"
      },
      "execution_count": null,
      "outputs": [
        {
          "output_type": "stream",
          "name": "stdout",
          "text": [
            "Digite quantos metros quadrados deseja pintar: 60\n",
            "A quantidade necessaria para pintar é:  20.0 Litros\n",
            "A quantidade de latas de tinta necessaria é:  1 Latas\n",
            "A quantidade de galões de tinta necessaria é:  5 Galões\n",
            "A quantidade que irá gastar é R$  81.0\n"
          ]
        }
      ]
    },
    {
      "cell_type": "markdown",
      "source": [
        "18.Faça um programa que peça o tamanho de um arquivo de download (em MB) e a velocidade de um link de Internet (em Mbps), calcule e informe o tempo aproximado de download do arquivo usando este link (em minutos)."
      ],
      "metadata": {
        "id": "6EW4-BtaZbMo"
      }
    },
    {
      "cell_type": "code",
      "source": [
        "tamanho_down = float(input(\"Digite o tamanho do arquivo que quer baixar: \"))\n",
        "vel_net = int(input(\"Digite a velocidade da sua internet: \"))\n",
        "\n",
        "tempo_down = tamanho_down / vel_net * 60\n",
        "print (\"O download irá demorar: \", tempo_down, \"Minutos\")"
      ],
      "metadata": {
        "id": "FbMt-fIRZvlS",
        "colab": {
          "base_uri": "https://localhost:8080/"
        },
        "outputId": "2e41f7fd-835d-40e4-ab71-77e694f535cc"
      },
      "execution_count": null,
      "outputs": [
        {
          "output_type": "stream",
          "name": "stdout",
          "text": [
            "Digite o tamanho do arquivo que quer baixar: 1000\n",
            "Digite a velocidade da sua internet: 30\n",
            "O download irá demorar:  2000.0000000000002 Minutos\n"
          ]
        }
      ]
    }
  ]
}