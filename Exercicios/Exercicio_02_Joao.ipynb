{
  "nbformat": 4,
  "nbformat_minor": 0,
  "metadata": {
    "colab": {
      "provenance": [],
      "authorship_tag": "ABX9TyNzVAkbk1QnHGfGSGnrSQ/a",
      "include_colab_link": true
    },
    "kernelspec": {
      "name": "python3",
      "display_name": "Python 3"
    },
    "language_info": {
      "name": "python"
    }
  },
  "cells": [
    {
      "cell_type": "markdown",
      "metadata": {
        "id": "view-in-github",
        "colab_type": "text"
      },
      "source": [
        "<a href=\"https://colab.research.google.com/github/LuisAlvesSilva/Python/blob/main/Exercicio_02_Joao.ipynb\" target=\"_parent\"><img src=\"https://colab.research.google.com/assets/colab-badge.svg\" alt=\"Open In Colab\"/></a>"
      ]
    },
    {
      "cell_type": "markdown",
      "source": [
        "#1) \n",
        "Imprimir seu nome com uma letra por linha"
      ],
      "metadata": {
        "id": "irfACuRYsBQ3"
      }
    },
    {
      "cell_type": "code",
      "source": [
        "nomes = input(\"Digite seu nome: \")\n",
        "for i in range(len(nomes)):\n",
        "  print (nomes[i]) "
      ],
      "metadata": {
        "id": "LO4eoqrysnIn",
        "colab": {
          "base_uri": "https://localhost:8080/"
        },
        "outputId": "00033455-24eb-48e0-e102-2843de6a4f9f"
      },
      "execution_count": null,
      "outputs": [
        {
          "output_type": "stream",
          "name": "stdout",
          "text": [
            "Digite seu nome: Luis\n",
            "L\n",
            "u\n",
            "i\n",
            "s\n"
          ]
        }
      ]
    },
    {
      "cell_type": "markdown",
      "source": [
        "#2) \n",
        "Escreva uma função que receba uma string e conte o número de vogais dentro dela, por exemplo: entrada: ‘Ciência de Dados’,"
      ],
      "metadata": {
        "id": "N73XVHk-sIdG"
      }
    },
    {
      "cell_type": "code",
      "source": [
        "letras = input(\"Digite a frase que deseja saber quantas vogais possui: \")\n",
        "vogal = (\"a\",\"e\",\"i\",\"o\",\"u\")\n",
        "contador = 0\n",
        "\n",
        "for char in letras:\n",
        "  for vogais in vogal:\n",
        "    if (char == vogais):\n",
        "      contador += 1\n",
        "\n",
        "print(\"A palavra tem: \", str(contador) , \"Vogais\")"
      ],
      "metadata": {
        "id": "VJZrpoEWsngO"
      },
      "execution_count": null,
      "outputs": []
    },
    {
      "cell_type": "markdown",
      "source": [
        "#3) \n",
        "Desenha moldura. Construa uma função que desenhe um retângulo usando os caracteres ‘+’ , ‘−’ e ‘| ‘. Esta função deve receber dois parâmetros, linhas e colunas, sendo que o valor por omissão é o valor mínimo igual a 1 e o valor máximo é 20. Se valores fora da faixa forem informados, eles devem ser modificados para valores dentro da faixa de forma elegante.\n"
      ],
      "metadata": {
        "id": "pSUochqbsJa2"
      }
    },
    {
      "cell_type": "code",
      "source": [
        "def valor_por_omissao(valor):\n",
        "    if valor=='':\n",
        "        return int(1)\n",
        "    else:\n",
        "        return faixa_minima_maxima(int(valor))\n",
        "\n",
        "def faixa_minima_maxima(valor):\n",
        "    if valor<1:\n",
        "        return 1\n",
        "    elif valor>20:\n",
        "        return 20\n",
        "    else:\n",
        "        return valor\n",
        "\n",
        "def cria_linha(linha):\n",
        "    l='+'\n",
        "    for x in range(linha):\n",
        "        l+='-'\n",
        "    l+='+'\n",
        "    print (l)\n",
        "\n",
        "def cria_coluna(linha, coluna):\n",
        "    for y in range(coluna):\n",
        "        c='|'\n",
        "        c+= ' '*linha\n",
        "        c+='|'\n",
        "        print (c)\n",
        "\n",
        "def desenha_moldura(linha, coluna):\n",
        "    cria_linha(linha)\n",
        "    cria_coluna(linha, coluna)\n",
        "    cria_linha(linha)\n",
        "\n",
        "linha=input('Diga qual a distancia horizontal, entre 1 e 20: ')\n",
        "coluna=input('Diga qual a distancia vertical, entre 1 e 20: ')\n",
        "desenha_moldura(valor_por_omissao(linha), valor_por_omissao(coluna))"
      ],
      "metadata": {
        "id": "du0-e6Z6sn8G",
        "colab": {
          "base_uri": "https://localhost:8080/"
        },
        "outputId": "6f9a49be-9439-4dda-9687-779bbb9fb399"
      },
      "execution_count": null,
      "outputs": [
        {
          "output_type": "stream",
          "name": "stdout",
          "text": [
            "Diga quantos +----+, entre 1 e 20: 20\n",
            "Diga quantos |    |, entre 1 e 20: 5\n",
            "+--------------------+\n",
            "|                    |\n",
            "|                    |\n",
            "|                    |\n",
            "|                    |\n",
            "|                    |\n",
            "+--------------------+\n"
          ]
        }
      ]
    },
    {
      "cell_type": "markdown",
      "source": [
        "#4) \n",
        "Crie um função que retorna o resto de uma divisão"
      ],
      "metadata": {
        "id": "W_MgVfP2sNPH"
      }
    },
    {
      "cell_type": "code",
      "source": [
        "numero_01 = int(input(\"Digite o primeiro numero inteiro: \"))\n",
        "numero_02 = int(input(\"Digite o segundo numero inteiro: \"))\n",
        "\n",
        "while numero_01 > numero_02 :\n",
        "  numero_01 = numero_01 - numero_02\n",
        "print(f\"O resto da divisao é de: {numero_01}\")"
      ],
      "metadata": {
        "id": "ux4hV4smsob-"
      },
      "execution_count": null,
      "outputs": []
    },
    {
      "cell_type": "markdown",
      "source": [
        "#5) \n",
        "Escreva um programa que pergunte a quantidade de km percorridos por um carro alugado pelo usuário, assim como a quantidade de dias pelos quais o carro foi alugado. Calcule o preço a pagar, sabendo que o carro custa R$ 60,00 por dia e R$ 0,15 por km rodado."
      ],
      "metadata": {
        "id": "ERipJfEKsYh2"
      }
    },
    {
      "cell_type": "code",
      "source": [
        "km = int(input(\"Digite a quantidade de quilometros percorridos:\"))\n",
        "dias = int(input(\"Digite quantos dias você ficou com o carro:\"))\n",
        "preço_por_dia = 60\n",
        "preço_por_km = 0.15\n",
        "preço_a_pagar = km * preço_por_km + dias * preço_por_dia\n",
        "print(\"Total a pagar: R$ %7.2f\" % preço_a_pagar)"
      ],
      "metadata": {
        "id": "g1gaE99hso82",
        "colab": {
          "base_uri": "https://localhost:8080/"
        },
        "outputId": "682de030-c4d8-4285-aad9-923870f4259b"
      },
      "execution_count": null,
      "outputs": [
        {
          "output_type": "stream",
          "name": "stdout",
          "text": [
            "Digite a quantidade de quilometros percorridos:40\n",
            "Digite quantos dias você ficou com o carro:5\n",
            "Total a pagar: R$  306.00\n"
          ]
        }
      ]
    },
    {
      "cell_type": "markdown",
      "source": [
        "#6) \n",
        "Escreva um programa para calcular a redução do tempo de vida de um fumante. Pergunte a quantidade de cigarros fumados por dia e quantos anos ele já fumou. Considere que um fumante perde 10 minutos de vida a cada cigarro, e calcule quantos dias de vida um fumante perderá. Exiba o total em dias."
      ],
      "metadata": {
        "id": "tXlrIe_LseSu"
      }
    },
    {
      "cell_type": "code",
      "source": [
        "cigarros_por_dia = int(input(\"Quantidade de cigarros por dia:\"))\n",
        "anos_fumando = float(input(\"Quantidade de anos fumando:\"))\n",
        "redução_em_minutos = anos_fumando * 365 * cigarros_por_dia * 10\n",
        "# Um dia tem 24 x 60 minutos\n",
        "redução_em_dias = redução_em_minutos / (24 * 60)\n",
        "print(\"Redução do tempo de vida %8.2f dias.\" % redução_em_dias)"
      ],
      "metadata": {
        "id": "0OS6-xWtspaG",
        "colab": {
          "base_uri": "https://localhost:8080/"
        },
        "outputId": "0b74286a-78ac-41bc-8ebc-cf0d9a43a752"
      },
      "execution_count": null,
      "outputs": [
        {
          "output_type": "stream",
          "name": "stdout",
          "text": [
            "Quantidade de cigarros por dia:6\n",
            "Quantidade de anos fumando:4\n",
            "Redução do tempo de vida    60.83 dias.\n"
          ]
        }
      ]
    },
    {
      "cell_type": "markdown",
      "source": [
        "#7) \n",
        "Validar e corrigir número de telefone. \n",
        "Faça um programa que leia um número de telefone, e corrija o número no caso deste conter somente 7 dígitos, acrescentando o '3' na frente. O usuário pode informar o número com ou sem o traço\n",
        "separador"
      ],
      "metadata": {
        "id": "N9T9BPppsg0O"
      }
    },
    {
      "cell_type": "code",
      "source": [],
      "metadata": {
        "id": "qA31aBhGsp5O"
      },
      "execution_count": null,
      "outputs": []
    },
    {
      "cell_type": "markdown",
      "source": [
        "#8) \n",
        "Faça uma função Calculadora que recebe uma expressão matemática e retorna o resultado\n",
        "Ex:\n",
        "Entrada: Digite uma expressão matemática: 4+5\n",
        "Saída: O resultado é 9"
      ],
      "metadata": {
        "id": "_0gM7TE3sjXm"
      }
    },
    {
      "cell_type": "code",
      "source": [
        "def calculate():\n",
        "    operation = input('''\n",
        "Digite qual o tipo de calculo que deseja fazer:\n",
        "+ para adição\n",
        "- para subtração\n",
        "* para multiplicação\n",
        "/ para divisão\n",
        "''')\n",
        "\n",
        "    number_1 = int(input('Adicione o primeiro numero: '))\n",
        "    number_2 = int(input('Adicione o segundo numero: '))\n",
        "\n",
        "    if operation == '+':\n",
        "        print('{} + {} = '.format(number_1, number_2))\n",
        "        print(number_1 + number_2)\n",
        "\n",
        "    elif operation == '-':\n",
        "        print('{} - {} = '.format(number_1, number_2))\n",
        "        print(number_1 - number_2)\n",
        "\n",
        "    elif operation == '*':\n",
        "        print('{} * {} = '.format(number_1, number_2))\n",
        "        print(number_1 * number_2)\n",
        "\n",
        "    elif operation == '/':\n",
        "        print('{} / {} = '.format(number_1, number_2))\n",
        "        print(number_1 / number_2)\n",
        "\n",
        "    else:\n",
        "        print('Voce não colocou um numero valido, refaça a solicitação.')\n",
        "\n",
        "    again()\n",
        "\n",
        "def again():\n",
        "    calc_again = input('''\n",
        "Voce quer calcular novamente?\n",
        "Caso sim digite S, caso não digite N.\n",
        "''')\n",
        "\n",
        "    if calc_again.upper() == 'S':\n",
        "        calculate()\n",
        "    elif calc_again.upper() == 'N':\n",
        "        print('Ate logo')\n",
        "    else:\n",
        "        again()\n",
        "\n",
        "calculate()"
      ],
      "metadata": {
        "id": "Hkji1E_jsqYX"
      },
      "execution_count": null,
      "outputs": []
    }
  ]
}