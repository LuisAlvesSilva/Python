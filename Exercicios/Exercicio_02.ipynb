{
  "cells": [
    {
      "cell_type": "markdown",
      "metadata": {
        "colab_type": "text",
        "id": "view-in-github"
      },
      "source": [
        "<a href=\"https://colab.research.google.com/github/LuisAlvesSilva/Python/blob/main/Exercicio_02.ipynb\" target=\"_parent\"><img src=\"https://colab.research.google.com/assets/colab-badge.svg\" alt=\"Open In Colab\"/></a>"
      ]
    },
    {
      "cell_type": "markdown",
      "metadata": {
        "id": "cR8m_XyZBxUT"
      },
      "source": [
        "Estrutura de Decisão"
      ]
    },
    {
      "cell_type": "markdown",
      "metadata": {
        "id": "mWHPQjX8Bx2z"
      },
      "source": [
        "1. Faça um programa que peça dois números e imprima o maior deles."
      ]
    },
    {
      "cell_type": "code",
      "execution_count": null,
      "metadata": {
        "colab": {
          "base_uri": "https://localhost:8080/"
        },
        "id": "8V8TjtfDBzW7",
        "outputId": "24504c60-81c3-4f20-ef8e-0844f6229dee"
      },
      "outputs": [
        {
          "name": "stdout",
          "output_type": "stream",
          "text": [
            "Digite um número: 6\n",
            "Digite outro número: 1\n",
            "O número maior é:  6\n"
          ]
        }
      ],
      "source": [
        "numero01 = int(input(\"Digite um número: \"))\n",
        "numero02 = int(input(\"Digite outro número: \"))\n",
        "if numero01 > numero02:\n",
        "  print (\"O número maior é: \", numero01)\n",
        "else:\n",
        "  print (\"O número maior é: \", numero02) #oi"
      ]
    },
    {
      "cell_type": "markdown",
      "metadata": {
        "id": "rZHRzFwFBzhT"
      },
      "source": [
        "2. Faça um programa que peça um valor e mostre na tela se o valor é positivo ou negativo."
      ]
    },
    {
      "cell_type": "code",
      "execution_count": null,
      "metadata": {
        "colab": {
          "base_uri": "https://localhost:8080/"
        },
        "id": "Xi3i4QPgBzrq",
        "outputId": "1d4427f3-11f5-4188-9763-a2162aa7539b"
      },
      "outputs": [
        {
          "name": "stdout",
          "output_type": "stream",
          "text": [
            "Digite um número: -5\n",
            "Seu número é:  -5.0 Negativo\n"
          ]
        }
      ],
      "source": [
        "numero = float(input(\"Digite um número: \"))\n",
        "\n",
        "if numero >= 0:\n",
        "  print (\"O seu número é: \", numero, \"Positivo\")\n",
        "else:\n",
        "  numero < 0\n",
        "  print (\"Seu número é: \", numero, \"Negativo\")"
      ]
    },
    {
      "cell_type": "markdown",
      "metadata": {
        "id": "fnu0wreDBzzr"
      },
      "source": [
        "3. Faça um programa que verifique se uma letra digitada é \"F\" ou \"M\". Conforme a letra escrever: F - Feminino, M - Masculino, sexo inválido."
      ]
    },
    {
      "cell_type": "code",
      "execution_count": null,
      "metadata": {
        "colab": {
          "base_uri": "https://localhost:8080/"
        },
        "id": "pMHdWzlVBz8z",
        "outputId": "42b9b690-ffec-46c1-f78e-f54385e6beb3"
      },
      "outputs": [
        {
          "name": "stdout",
          "output_type": "stream",
          "text": [
            "Digite F para Feminino, M para Masculino: a\n",
            "Sexo invalido.\n"
          ]
        }
      ],
      "source": [
        "sexo = input(\"Digite F para Feminino, M para Masculino: \")\n",
        "\n",
        "if sexo == \"M\" or sexo == \"m\":\n",
        "  print (\"Você é um Homem\")\n",
        "\n",
        "elif sexo == \"F\" or sexo == \"f\":\n",
        "  print (\"Você é uma Mulher\")\n",
        "\n",
        "else:\n",
        "  print (\"Sexo invalido.\")"
      ]
    },
    {
      "cell_type": "markdown",
      "metadata": {
        "id": "6xf6KCoRB0EN"
      },
      "source": [
        "4. Faça um programa que verifique se uma letra digitada é vogal ou consoante."
      ]
    },
    {
      "cell_type": "code",
      "execution_count": null,
      "metadata": {
        "colab": {
          "base_uri": "https://localhost:8080/"
        },
        "id": "EdgW6PIUB0Lj",
        "outputId": "772713a3-9848-4a8f-e073-b3def818b13f"
      },
      "outputs": [
        {
          "ename": "",
          "evalue": "",
          "output_type": "error",
          "traceback": [
            "\u001b[1;31mRunning cells with 'c:\\ProgramData\\Anaconda3\\python.exe' requires the ipykernel package.\n",
            "\u001b[1;31mRun the following command to install 'ipykernel' into the Python environment. \n",
            "\u001b[1;31mCommand: 'conda install -p c:\\ProgramData\\Anaconda3 ipykernel --update-deps --force-reinstall'"
          ]
        }
      ],
      "source": [
        "letras = input(\"Digite a letra que deseja saber se é Vogal ou Consoante: \")\n",
        "vogal = str(\"a\"),(\"e\"),(\"i\"),(\"o\"),(\"u\")\n",
        "\n",
        "if letras == vogal:\n",
        "  print (f\"Sua letra: {letras}, é uma Vogal\")\n",
        "\n",
        "elif letras != vogal:\n",
        "  print (f\"Sua Letra {letras}, é uma Consoante\")"
      ]
    },
    {
      "cell_type": "markdown",
      "metadata": {
        "id": "-zwzTGggIAGT"
      },
      "source": [
        "5. Faça um programa para a leitura de duas notas parciais de um aluno. O programa deve calcular a média alcançada por aluno e apresentar:\n",
        "\n",
        "*   A mensagem \"Aprovado\", se a média alcaçada for maior ou igual a sete;\n",
        "*   A mensagem \"Reprovado\", se a média for menos do que sete;\n",
        "*   A mensagem \"Aprovado com Distinção\", se a média for igual a dez.\n",
        "\n",
        "\n",
        "\n"
      ]
    },
    {
      "cell_type": "code",
      "execution_count": null,
      "metadata": {
        "colab": {
          "base_uri": "https://localhost:8080/"
        },
        "id": "vctYIYj1y_AK",
        "outputId": "59af3f4d-dd5b-4d31-a15e-d63e98ebcbdb"
      },
      "outputs": [
        {
          "name": "stdout",
          "output_type": "stream",
          "text": [
            "Digite aqui a sua primeira nota do semestre: 5\n",
            "Digite aqui a sua segunda nota do semestre: 9\n",
            "A sua nota foi: 7.0 \n",
            "Você foi Aprovado\n"
          ]
        }
      ],
      "source": [
        "nota1 = float(input(\"Digite aqui a sua primeira nota do semestre: \"))\n",
        "nota2 = float(input(\"Digite aqui a sua segunda nota do semestre: \"))\n",
        "\n",
        "media = (nota1 + nota2) / 2\n",
        "if media == 10:\n",
        "  print (f\"A sua nota foi: {media} \\nVocê foi Aprovado com Distinção\")\n",
        " \n",
        "elif media >= 7: \n",
        "  print (f\"A sua nota foi: {media} \\nVocê foi Aprovado\")\n",
        "\n",
        "else:\n",
        "  print (f\"A sua nota foi: {media} \\nVocê foi Reprovado\")"
      ]
    },
    {
      "cell_type": "markdown",
      "metadata": {
        "id": "IbptwuriJhyh"
      },
      "source": [
        "6. Faça um programa que leia três números e mostre o maior deles."
      ]
    },
    {
      "cell_type": "code",
      "execution_count": null,
      "metadata": {
        "colab": {
          "base_uri": "https://localhost:8080/"
        },
        "id": "We9mNx4tLgIF",
        "outputId": "860fc194-e2ea-4b97-d894-0fa4d918b05e"
      },
      "outputs": [
        {
          "name": "stdout",
          "output_type": "stream",
          "text": [
            "Digite o primeiro número: 2\n",
            "Digite o segundo número: 3\n",
            "Digite o terceiro número: 1\n",
            "o Número maior é: 3\n"
          ]
        }
      ],
      "source": [
        "numero1 = int(input(\"Digite o primeiro número: \"))\n",
        "numero2 = int(input(\"Digite o segundo número: \"))\n",
        "numero3 = int(input(\"Digite o terceiro número: \"))\n",
        "maior_Numero = 0\n",
        "\n",
        "if numero1 > numero2:\n",
        "  maior_Numero = numero1\n",
        "\n",
        "else:\n",
        "  maior_Numero = numero2\n",
        "\n",
        "if maior_Numero < numero3:\n",
        "  maior_Numero = numero3\n",
        "\n",
        "print (f\"o Número maior é: {maior_Numero}\")\n"
      ]
    },
    {
      "cell_type": "markdown",
      "metadata": {
        "id": "wx4eR_3GLgb1"
      },
      "source": [
        "7. Faça um programa que leia três números e mostre o maior e o menor deles."
      ]
    },
    {
      "cell_type": "code",
      "execution_count": null,
      "metadata": {
        "colab": {
          "base_uri": "https://localhost:8080/"
        },
        "id": "eKdYtw1LLq7t",
        "outputId": "5a628c9a-37d5-4362-c5d6-472964296e25"
      },
      "outputs": [
        {
          "name": "stdout",
          "output_type": "stream",
          "text": [
            "Digite o primeiro número: 5\n",
            "Digite o segundo número: 6\n",
            "Digite o terceiro número: 1\n",
            "o Número maior é: 6\n",
            "O Número menor é: 1\n"
          ]
        }
      ],
      "source": [
        "numero1 = int(input(\"Digite o primeiro número: \"))\n",
        "numero2 = int(input(\"Digite o segundo número: \"))\n",
        "numero3 = int(input(\"Digite o terceiro número: \"))\n",
        "maior_Numero = 0\n",
        "menor_Numero = 0\n",
        "\n",
        "if numero1 > numero2:\n",
        "  maior_Numero = numero1\n",
        "  menor_Numero = numero2\n",
        "\n",
        "else:\n",
        "  maior_Numero = numero2\n",
        "  menor_Numero = numero1\n",
        "\n",
        "if maior_Numero < numero3:\n",
        "  maior_Numero = numero3\n",
        "\n",
        "if menor_Numero > numero3:\n",
        "  menor_Numero = numero3\n",
        "\n",
        "print (f\"o Número maior é: {maior_Numero}\")\n",
        "print (f\"O Número menor é: {menor_Numero}\")\n"
      ]
    },
    {
      "cell_type": "markdown",
      "metadata": {
        "id": "1ij7cwjqLrF1"
      },
      "source": [
        "8. Faça um programa que pergunte o preço de três produtos e informe qual o produto você deve comprar, sabendo que a decisão é sempre pelo mais barato."
      ]
    },
    {
      "cell_type": "code",
      "execution_count": null,
      "metadata": {
        "colab": {
          "base_uri": "https://localhost:8080/"
        },
        "id": "NZO3lIMLL_it",
        "outputId": "805f79ad-c298-4014-faae-8735f987cbbe"
      },
      "outputs": [
        {
          "name": "stdout",
          "output_type": "stream",
          "text": [
            "Digite o valor do Produto:1.25\n",
            "Digite o valor do segundo Produto:2\n",
            "Digite o valor do terceiro Produto:0.50\n",
            "Você deve comprar o Produto: 0.5 que é o mais barato\n"
          ]
        }
      ],
      "source": [
        "produto1 = float(input(\"Digite o valor do Produto:\"))\n",
        "produto2 = float(input(\"Digite o valor do segundo Produto:\"))\n",
        "produto3 = float(input(\"Digite o valor do terceiro Produto:\"))\n",
        "prod_Mais_Barato = 0\n",
        "\n",
        "if produto1 < produto2:\n",
        "  prod_Mais_Barato = produto1\n",
        "\n",
        "else:\n",
        "  prod_Mais_Barato = produto2\n",
        "\n",
        "if prod_Mais_Barato > produto3:\n",
        "  prod_Mais_Barato = produto3\n",
        "\n",
        "\n",
        "print (f\"Você deve comprar o Produto: {prod_Mais_Barato} que é o mais barato\")"
      ]
    },
    {
      "cell_type": "markdown",
      "metadata": {
        "id": "UzylV-8jL_p1"
      },
      "source": [
        "9. Faça um programa que leia três número e mostre-os em ordem decrescente."
      ]
    },
    {
      "cell_type": "code",
      "execution_count": null,
      "metadata": {
        "colab": {
          "base_uri": "https://localhost:8080/"
        },
        "id": "Rs-rQivJMga-",
        "outputId": "6754066f-3e68-4ef6-88e2-c69ae1bca6d0"
      },
      "outputs": [
        {
          "name": "stdout",
          "output_type": "stream",
          "text": [
            "Digite o primeiro número: 2\n",
            "Digite o segundo número: 1\n",
            "Digite o terceiro número: 3\n",
            "3 1 3\n"
          ]
        }
      ],
      "source": [
        "numero1 = int(input(\"Digite o primeiro número: \"))\n",
        "numero2 = int(input(\"Digite o segundo número: \"))\n",
        "numero3 = int(input(\"Digite o terceiro número: \"))\n",
        "menor_Num = 0\n",
        "maior_Num = 0\n",
        "num_Mediano = 0\n",
        "\n",
        "if numero1 > numero2:\n",
        "    menor_Num = numero2\n",
        "    maior_Num = numero1\n",
        "    num_Mediano = numero2\n",
        "\n",
        "else:\n",
        "   numero2 > numero1\n",
        "   menor_Num = numero1\n",
        "   maior_Num = numero2\n",
        "   num_Mediano = numero1\n",
        "\n",
        "if maior_Num < numero3:\n",
        "   maior_Num = numero3\n",
        "\n",
        "else:\n",
        "   numero3 < maior_Num\n",
        "   num_Mediano = numero3\n",
        "\n",
        "if menor_Num > numero3:\n",
        "   menor_Num = numero3\n",
        "\n",
        "else:\n",
        "   numero3 > menor_Num\n",
        "   num_Mediano = numero3\n",
        "\n",
        "print(maior_Num,menor_Num,num_Mediano)\n",
        "\n"
      ]
    },
    {
      "cell_type": "markdown",
      "metadata": {
        "id": "5kQRdUVHMgm2"
      },
      "source": [
        "10. Faça um programa que pergunte em que turno você estuda. Peça para digitar <-matutino ou V-vespertino ou N-Noturno. Improma a mensagem \"Bom Dia!\", \"Boa Tarde!\" ou \"Boa Noite!\" ou \"Valor Invalido!\", conforme o caso."
      ]
    },
    {
      "cell_type": "code",
      "execution_count": null,
      "metadata": {
        "colab": {
          "base_uri": "https://localhost:8080/"
        },
        "id": "IWVQoWg1PMUk",
        "outputId": "ea1e8866-4e4d-4b5a-da00-fafc78796965"
      },
      "outputs": [
        {
          "name": "stdout",
          "output_type": "stream",
          "text": [
            "Digite o turno: M - para Matutino, V - para Vespertino ou N - para Noturno:N\n",
            "Boa Noite\n"
          ]
        }
      ],
      "source": [
        "turno = input(\"Digite o turno: M - para Matutino, V - para Vespertino ou N - para Noturno:\")\n",
        "\n",
        "if turno == str(\"M\"):\n",
        "  print (\"Bom Dia!\")\n",
        "\n",
        "elif turno == str(\"V\"):\n",
        "  print (\"Boa Tarde!\")\n",
        "\n",
        "elif turno == str(\"N\"):\n",
        "  print (\"Boa Noite!\")\n",
        "\n",
        "else:\n",
        "  turno != str(\"M\"), (\"V\"), (\"N\") \n",
        "  print (\"Valor Invalido\")"
      ]
    },
    {
      "cell_type": "markdown",
      "metadata": {
        "id": "IlmBvDe-PMdH"
      },
      "source": [
        "11. As Organizações Tabajara resolveram dar um aumento de sálario aos seus colaboradores e lhe contrataram para desenvolver o programa que calculará os reajustes:\n",
        "\n",
        "*   Faça um programa que recebe o salário de um colaborador e o reajuste segundo o seguinte critério, baseado no salário atual:\n",
        "\n",
        "*   Salários até 280,00 reais: aumento de 20%\n",
        "*   Salários entre 280,00 e 700,00 reais: aumento de 15%\n",
        "*   Salários entre 700,00 e 1500,00 reais: aumento de 10%\n",
        "*   Salários de 1500,00 em diante: aumento de 5%\n",
        "Apos o aumento ser realizado, informe na tela:\n",
        "*   Salário antes do reajuste\n",
        "*   O percentual de aumento aplicado\n",
        "*   O valor do aumento\n",
        "*   O novo salário, apos o aumento\n",
        "\n",
        "\n",
        "\n",
        "\n",
        "\n",
        "\n",
        "\n",
        "\n",
        "\n",
        "\n",
        "\n"
      ]
    },
    {
      "cell_type": "code",
      "execution_count": null,
      "metadata": {
        "id": "PwPX6HmZfyIp"
      },
      "outputs": [],
      "source": []
    }
  ],
  "metadata": {
    "colab": {
      "authorship_tag": "ABX9TyO46wWzVWfXGf2ekYCbxEB7",
      "include_colab_link": true,
      "provenance": []
    },
    "kernelspec": {
      "display_name": "Python 3",
      "name": "python3"
    },
    "language_info": {
      "name": "python",
      "version": "3.9.13"
    }
  },
  "nbformat": 4,
  "nbformat_minor": 0
}
