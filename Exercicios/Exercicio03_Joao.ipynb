{
  "nbformat": 4,
  "nbformat_minor": 0,
  "metadata": {
    "colab": {
      "provenance": [],
      "authorship_tag": "ABX9TyMCJn+9iyr7SHrPqGWOXAFl",
      "include_colab_link": true
    },
    "kernelspec": {
      "name": "python3",
      "display_name": "Python 3"
    },
    "language_info": {
      "name": "python"
    }
  },
  "cells": [
    {
      "cell_type": "markdown",
      "metadata": {
        "id": "view-in-github",
        "colab_type": "text"
      },
      "source": [
        "<a href=\"https://colab.research.google.com/github/LuisAlvesSilva/Python/blob/main/Exercicio03_Joao.ipynb\" target=\"_parent\"><img src=\"https://colab.research.google.com/assets/colab-badge.svg\" alt=\"Open In Colab\"/></a>"
      ]
    },
    {
      "cell_type": "markdown",
      "source": [
        "1 - Desenha moldura. Construa uma função que desenhe um retângulo usando os caracteres ‘+’ , ‘−’ e ‘| ‘. Esta função deve receber dois parâmetros, linhas e colunas, sendo que o valor por omissão é o valor mínimo igual a 1 e o valor máximo é 20. Se valores fora da faixa forem informados, eles devem ser modificados para valores dentro da faixa de forma elegante."
      ],
      "metadata": {
        "id": "Go9ENbqYSHfW"
      }
    },
    {
      "cell_type": "code",
      "source": [
        "def valor_por_omissao(valor):\n",
        "    if valor=='':\n",
        "        return int(1)\n",
        "    else:\n",
        "        return faixa_minima_maxima(int(valor))\n",
        "\n",
        "def faixa_minima_maxima(valor):\n",
        "    if valor<1:\n",
        "        return 1\n",
        "    elif valor>20:\n",
        "        return 20\n",
        "    else:\n",
        "        return valor\n",
        "\n",
        "def cria_linha(linha):\n",
        "    l='+'\n",
        "    for x in range(linha):\n",
        "        l+='-'\n",
        "    l+='+'\n",
        "    print (l)\n",
        "\n",
        "def cria_coluna(linha, coluna):\n",
        "    for y in range(coluna):\n",
        "        c='|'\n",
        "        c+= ' '*linha\n",
        "        c+='|'\n",
        "        print (c)\n",
        "\n",
        "def desenha_moldura(linha, coluna):\n",
        "    cria_linha(linha)\n",
        "    cria_coluna(linha, coluna)\n",
        "    cria_linha(linha)\n",
        "\n",
        "linha=input('Diga qual a distancia horizontal, entre 1 e 20: ')\n",
        "coluna=input('Diga qual a distancia vertical, entre 1 e 20: ')\n",
        "desenha_moldura(valor_por_omissao(linha), valor_por_omissao(coluna))"
      ],
      "metadata": {
        "id": "XWjSMT7ZSIQV"
      },
      "execution_count": null,
      "outputs": []
    },
    {
      "cell_type": "markdown",
      "source": [
        "2 - Escreva uma função que receba uma string e uma lista. A função deve comparar a string passada\n",
        "com os elementos da lista, também passada como parâmetro. Retorne verdadeiro se a string for encontrada dentro da lista, e falso, caso contrário."
      ],
      "metadata": {
        "id": "e6AK6282SIj9"
      }
    },
    {
      "cell_type": "code",
      "source": [
        "def procura_string(string, lista):\n",
        "    return string in lista\n",
        "\n",
        "\n",
        "Lista = [\"AB\",  \"CD\", \"EF\", \"FG\"]\n",
        "\n",
        "print(procura_string(\"AB\", Lista))\n",
        "print(procura_string(\"CD\", Lista))\n",
        "print(procura_string(\"EF\", Lista))\n",
        "print(procura_string(\"FG\", Lista))\n",
        "print(procura_string(\"XYZ\", Lista))"
      ],
      "metadata": {
        "colab": {
          "base_uri": "https://localhost:8080/"
        },
        "id": "vC364afaSLOW",
        "outputId": "1ceaa1d6-4cab-4f09-be18-3731266d5b27"
      },
      "execution_count": null,
      "outputs": [
        {
          "output_type": "stream",
          "name": "stdout",
          "text": [
            "True\n",
            "True\n",
            "True\n",
            "True\n",
            "False\n"
          ]
        }
      ]
    },
    {
      "cell_type": "markdown",
      "source": [
        "3 - Crie um programa que transfome o real em dólar\n"
      ],
      "metadata": {
        "id": "P269YtzbSLYF"
      }
    },
    {
      "cell_type": "code",
      "source": [
        "dolar = float(input(\"Informe a quantidade de dólar para conversão: US$ \"))\n",
        "cotacao = float(input (\"Informe o valor da cotação do dólar: R$ \"))\n",
        "conver = (dolar*cotacao)\n",
        "print (f\"Voce possui {dolar} que é igual a {conver} em reais.\")"
      ],
      "metadata": {
        "colab": {
          "base_uri": "https://localhost:8080/"
        },
        "id": "6veCpZR_SNum",
        "outputId": "b2f7b97b-669d-42a9-9874-b4d1f528a382"
      },
      "execution_count": null,
      "outputs": [
        {
          "output_type": "stream",
          "name": "stdout",
          "text": [
            "Informe a quantidade de dólar para conversão: US$ 50\n",
            "Informe o valor da cotação do dólar: R$ 4.95\n",
            "Voce possui 50.0 que é igual a 247.5 em reais.\n"
          ]
        }
      ]
    },
    {
      "cell_type": "markdown",
      "source": [
        "4 - Crie um programa que calcule 25% de aumento no salário"
      ],
      "metadata": {
        "id": "TSqTzsakSN39"
      }
    },
    {
      "cell_type": "code",
      "source": [
        "salário = float(input(\"Digite o salário atual:\"))\n",
        "p_aumento = float(input(\"Digite a porcentagem de aumento:\"))\n",
        "aumento = salário * p_aumento / 100\n",
        "novo_salário = salário + aumento\n",
        "print(\"Um aumento de %5.2f %% em um salário de R$ %7.2f\" % (p_aumento, salário))\n",
        "print(\"é igual a um aumento de R$ %7.2f\" % aumento)\n",
        "print(\"Resultando em um novo salário de R$ %7.2f\" % novo_salário)"
      ],
      "metadata": {
        "colab": {
          "base_uri": "https://localhost:8080/"
        },
        "id": "Q_bklmUlSRJm",
        "outputId": "1556ca3f-e5be-48a5-83b0-ccd702d3c6a0"
      },
      "execution_count": null,
      "outputs": [
        {
          "output_type": "stream",
          "name": "stdout",
          "text": [
            "Digite o salário atual:1600\n",
            "Digite a porcentagem de aumento:25\n",
            "Um aumento de 25.00 % em um salário de R$ 1600.00\n",
            "é igual a um aumento de R$  400.00\n",
            "Resultando em um novo salário de R$ 2000.00\n"
          ]
        }
      ]
    },
    {
      "cell_type": "markdown",
      "source": [
        "5 - Crie um programa que transfome a letra Maiuscula em Minuscula"
      ],
      "metadata": {
        "id": "yxvGnB0YSRTF"
      }
    },
    {
      "cell_type": "code",
      "source": [
        "letra = input(\"Digite o que deseja transformar em maiusculo ou minusculo: \")\n",
        "\n",
        "print (letra.lower())"
      ],
      "metadata": {
        "colab": {
          "base_uri": "https://localhost:8080/"
        },
        "id": "JosZZUSNSXou",
        "outputId": "cd60dade-63e3-4090-ed9a-04e65339883f"
      },
      "execution_count": 10,
      "outputs": [
        {
          "output_type": "stream",
          "name": "stdout",
          "text": [
            "Digite o que deseja transformar em maiusculo ou minusculo: LUIS\n",
            "luis\n"
          ]
        }
      ]
    },
    {
      "cell_type": "markdown",
      "source": [
        "6 - Crie um programa que verifica se a pessoa está apta ou não para votar nas eleições.\n",
        "\tCritérios:\n",
        "\t\tIdade menor que 16: Não pode votar \n",
        "\t\t16 <= Idade < 18: Opcional \n",
        "\t\t18 <=Idade <= 65: Obrigatório\n",
        "\t\tIdade maior que 65: Opcional\n"
      ],
      "metadata": {
        "id": "VJS1c35lSXzN"
      }
    },
    {
      "cell_type": "code",
      "source": [
        "idade = int(input(\"Digite a sua idade: \"))\n",
        "\n",
        "if idade >= 18 and idade <= 65:\n",
        "  print (\"Por estar na idade entra 18 e 65 anos, você tem obrigatoriedade em votar.\")\n",
        "\n",
        "elif idade < 16:\n",
        "  print (\"Voce não pode votar ainda, quando estiver com 16 anos será possivel votar, mas será opcional.\")\n",
        "\n",
        "else:\n",
        "  idade <= 17 or idade >= 66\n",
        "  print(\"Voce pode votar, mas é opcional.\")\n"
      ],
      "metadata": {
        "id": "qDhPL1gmSYtG",
        "colab": {
          "base_uri": "https://localhost:8080/"
        },
        "outputId": "f0e853c4-902c-49ba-9a14-9266014ca133"
      },
      "execution_count": 14,
      "outputs": [
        {
          "output_type": "stream",
          "name": "stdout",
          "text": [
            "Digite a sua idade: 16\n",
            "Voce pode votar, mas é opcional.\n"
          ]
        }
      ]
    },
    {
      "cell_type": "markdown",
      "source": [
        "7 - Crie um programa que leia o seu nome completo e que apresente somente o seu primeiro e último nomes"
      ],
      "metadata": {
        "id": "jqvkP2g6SZYW"
      }
    },
    {
      "cell_type": "code",
      "source": [
        "nome=input('Digite seu nome completo:')\n",
        "lista=nome.split()\n",
        "print(f\"{lista[0]} , {lista[-1]}\")"
      ],
      "metadata": {
        "id": "Yg-pKP2jSb-m",
        "colab": {
          "base_uri": "https://localhost:8080/"
        },
        "outputId": "feffac3b-bed7-4400-aaa1-91c777eb1f17"
      },
      "execution_count": 25,
      "outputs": [
        {
          "output_type": "stream",
          "name": "stdout",
          "text": [
            "Digite seu nome completo:Luis Fernando Vidal\n",
            "Luis , Vidal\n"
          ]
        }
      ]
    },
    {
      "cell_type": "markdown",
      "source": [
        "8 - Crie um programa que leia um número qualquer e informe se ele é par ou ímpar"
      ],
      "metadata": {
        "id": "KMNi8tHKScF-"
      }
    },
    {
      "cell_type": "code",
      "source": [
        "numero = int(input('Digite um inteiro: '))\n",
        "\n",
        "if (numero%2) == 0:\n",
        "      print(f\"o número {numero} é Par\")\n",
        "else:\n",
        "      print(f\"o número {numero} é Ímpar\")"
      ],
      "metadata": {
        "id": "DZANm1NsSf0F",
        "colab": {
          "base_uri": "https://localhost:8080/"
        },
        "outputId": "cc7feee0-8593-4869-d7f3-13e703e324da"
      },
      "execution_count": 4,
      "outputs": [
        {
          "output_type": "stream",
          "name": "stdout",
          "text": [
            "Digite um inteiro: 2\n",
            "o número 2 é Par\n"
          ]
        }
      ]
    },
    {
      "cell_type": "markdown",
      "source": [
        "9 - Crie um programa que apresente o maior e o menor valores da sequência ([54, 10, 29, 87, 7, 64]"
      ],
      "metadata": {
        "id": "u-Fq5FNxSf9X"
      }
    },
    {
      "cell_type": "code",
      "source": [
        "from functools import reduce\n",
        "\n",
        "numero = [54, 10, 29, 87, 7, 64]\n",
        "#numero = (int(input(\"Digite uma sequencia de numeros que deseja saber qual é o maior e o menor separado por pontos\"))).lista()\n",
        "#numero= [\"\"]\n",
        "maior_valor = reduce(\n",
        "    lambda n1, n2: n1 \n",
        "    if n1 > n2 \n",
        "    else n2, numero\n",
        "    )\n",
        "menor_valor = reduce(\n",
        "    lambda n1, n2: n1 \n",
        "    if n1 < n2 \n",
        "    else n2, numero)\n",
        "\n",
        "print(f'O maior valor da sequência é {maior_valor} e o menor é {menor_valor}')"
      ],
      "metadata": {
        "id": "ADnJHzJSSl6F",
        "colab": {
          "base_uri": "https://localhost:8080/"
        },
        "outputId": "5663ad94-409a-4485-c740-261a55925626"
      },
      "execution_count": 37,
      "outputs": [
        {
          "output_type": "stream",
          "name": "stdout",
          "text": [
            "O maior valor da sequência é 87 e o menor é 7\n"
          ]
        }
      ]
    }
  ]
}