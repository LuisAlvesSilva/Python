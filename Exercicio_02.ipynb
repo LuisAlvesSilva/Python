{
  "nbformat": 4,
  "nbformat_minor": 0,
  "metadata": {
    "colab": {
      "provenance": [],
      "authorship_tag": "ABX9TyNv90X9+jjODUHs0uFiw3AV",
      "include_colab_link": true
    },
    "kernelspec": {
      "name": "python3",
      "display_name": "Python 3"
    },
    "language_info": {
      "name": "python"
    }
  },
  "cells": [
    {
      "cell_type": "markdown",
      "metadata": {
        "id": "view-in-github",
        "colab_type": "text"
      },
      "source": [
        "<a href=\"https://colab.research.google.com/github/LuisAlvesSilva/Python/blob/main/Exercicio_02.ipynb\" target=\"_parent\"><img src=\"https://colab.research.google.com/assets/colab-badge.svg\" alt=\"Open In Colab\"/></a>"
      ]
    },
    {
      "cell_type": "markdown",
      "source": [
        "Estrutura de Decisão"
      ],
      "metadata": {
        "id": "cR8m_XyZBxUT"
      }
    },
    {
      "cell_type": "markdown",
      "source": [
        "1. Faça um programa que peça dois números e imprima o maior deles."
      ],
      "metadata": {
        "id": "mWHPQjX8Bx2z"
      }
    },
    {
      "cell_type": "code",
      "source": [
        "numero01 = int(input(\"Digite um número: \"))\n",
        "numero02 = int(input(\"Digite outro número: \"))\n",
        "if numero01 > numero02:\n",
        "  print (\"O número maior é: \", numero01)\n",
        "else:\n",
        "  print (\"O número maior é: \", numero02)"
      ],
      "metadata": {
        "id": "8V8TjtfDBzW7",
        "colab": {
          "base_uri": "https://localhost:8080/"
        },
        "outputId": "24504c60-81c3-4f20-ef8e-0844f6229dee"
      },
      "execution_count": null,
      "outputs": [
        {
          "output_type": "stream",
          "name": "stdout",
          "text": [
            "Digite um número: 6\n",
            "Digite outro número: 1\n",
            "O número maior é:  6\n"
          ]
        }
      ]
    },
    {
      "cell_type": "markdown",
      "source": [
        "2. Faça um programa que peça um valor e mostre na tela se o valor é positivo ou negativo."
      ],
      "metadata": {
        "id": "rZHRzFwFBzhT"
      }
    },
    {
      "cell_type": "code",
      "source": [
        "numero = float(input(\"Digite um número: \"))\n",
        "\n",
        "if numero >= 0:\n",
        "  print (\"O seu número é: \", numero, \"Positivo\")\n",
        "else:\n",
        "  numero < 0\n",
        "  print (\"Seu número é: \", numero, \"Negativo\")"
      ],
      "metadata": {
        "id": "Xi3i4QPgBzrq",
        "colab": {
          "base_uri": "https://localhost:8080/"
        },
        "outputId": "1d4427f3-11f5-4188-9763-a2162aa7539b"
      },
      "execution_count": null,
      "outputs": [
        {
          "output_type": "stream",
          "name": "stdout",
          "text": [
            "Digite um número: -5\n",
            "Seu número é:  -5.0 Negativo\n"
          ]
        }
      ]
    },
    {
      "cell_type": "markdown",
      "source": [
        "3. Faça um programa que verifique se uma letra digitada é \"F\" ou \"M\". Conforme a letra escrever: F - Feminino, M - Masculino, sexo inválido."
      ],
      "metadata": {
        "id": "fnu0wreDBzzr"
      }
    },
    {
      "cell_type": "code",
      "source": [
        "# sexo = str(input(\"Digite F para Feminino, M para Masculino: \"))\n",
        "# if \n",
        "#   sexo == str(m)\n",
        "#   print (\"Você é um Homem\")\n",
        "# else:\n",
        "#   sexo == str(f)\n",
        "#   print (\"Você é uma Mulher\")"
      ],
      "metadata": {
        "id": "pMHdWzlVBz8z",
        "colab": {
          "base_uri": "https://localhost:8080/",
          "height": 130
        },
        "outputId": "a4ad9400-304c-4e58-f569-ee80fcf47f88"
      },
      "execution_count": null,
      "outputs": [
        {
          "output_type": "error",
          "ename": "SyntaxError",
          "evalue": "ignored",
          "traceback": [
            "\u001b[0;36m  File \u001b[0;32m\"<ipython-input-10-04cfe7a1d4f5>\"\u001b[0;36m, line \u001b[0;32m2\u001b[0m\n\u001b[0;31m    if\u001b[0m\n\u001b[0m       ^\u001b[0m\n\u001b[0;31mSyntaxError\u001b[0m\u001b[0;31m:\u001b[0m invalid syntax\n"
          ]
        }
      ]
    },
    {
      "cell_type": "markdown",
      "source": [
        "4. Faça um programa que verifique se uma letra digitada é vogal ou consoante."
      ],
      "metadata": {
        "id": "6xf6KCoRB0EN"
      }
    },
    {
      "cell_type": "code",
      "source": [],
      "metadata": {
        "id": "EdgW6PIUB0Lj"
      },
      "execution_count": null,
      "outputs": []
    },
    {
      "cell_type": "markdown",
      "source": [
        "5. Faça um programa para a leitura de duas notas parciais de um aluno. O programa deve calcular a média alcançada por aluno e apresentar:\n",
        "\n",
        "*   A mensagem \"Aprovado\", se a média alcaçada for maior ou igual a sete;\n",
        "*   A mensagem \"Reprovado\", se a média for menos do que sete;\n",
        "*   A mensagem \"Aprovado com Distinção\", se a média for igual a dez.\n",
        "\n",
        "\n",
        "\n"
      ],
      "metadata": {
        "id": "-zwzTGggIAGT"
      }
    },
    {
      "cell_type": "code",
      "source": [],
      "metadata": {
        "id": "eYYt0Yv5Jhfz"
      },
      "execution_count": null,
      "outputs": []
    },
    {
      "cell_type": "markdown",
      "source": [
        "6. Faça um programa que leia três números e mostre o maior deles."
      ],
      "metadata": {
        "id": "IbptwuriJhyh"
      }
    },
    {
      "cell_type": "code",
      "source": [],
      "metadata": {
        "id": "We9mNx4tLgIF"
      },
      "execution_count": null,
      "outputs": []
    },
    {
      "cell_type": "markdown",
      "source": [
        "7. Faça um programa que leia três números e mostre o maior e o menor deles."
      ],
      "metadata": {
        "id": "wx4eR_3GLgb1"
      }
    },
    {
      "cell_type": "code",
      "source": [],
      "metadata": {
        "id": "eKdYtw1LLq7t"
      },
      "execution_count": null,
      "outputs": []
    },
    {
      "cell_type": "markdown",
      "source": [
        "8. Faça um programa que pergunte o preço de três produtos e informe qual o produto você deve comprar, sabendo que a decisão é sempre pelo mais barato."
      ],
      "metadata": {
        "id": "1ij7cwjqLrF1"
      }
    },
    {
      "cell_type": "code",
      "source": [],
      "metadata": {
        "id": "NZO3lIMLL_it"
      },
      "execution_count": null,
      "outputs": []
    },
    {
      "cell_type": "markdown",
      "source": [
        "9. Faça um programa que leia três número e mostre-os em ordem decrescente."
      ],
      "metadata": {
        "id": "UzylV-8jL_p1"
      }
    },
    {
      "cell_type": "code",
      "source": [],
      "metadata": {
        "id": "Rs-rQivJMga-"
      },
      "execution_count": null,
      "outputs": []
    },
    {
      "cell_type": "markdown",
      "source": [
        "10. Faça um programa que pergunte em que turno você estuda. Peça para digitar <-matutino ou V-vespertino ou N-Noturno. Improma a mensagem \"Bom Dia!\", \"Boa Tarde!\" ou \"Boa Noite!\" ou \"Valor Invalido!\", conforme o caso."
      ],
      "metadata": {
        "id": "5kQRdUVHMgm2"
      }
    },
    {
      "cell_type": "code",
      "source": [],
      "metadata": {
        "id": "IWVQoWg1PMUk"
      },
      "execution_count": null,
      "outputs": []
    },
    {
      "cell_type": "markdown",
      "source": [
        "11. As Organizações Tabajara resolveram dar um aumento de sálario aos seus colaboradores e lhe contrataram para desenvolver o programa que calculará os reajustes:\n",
        "\n",
        "*   Faça um programa que recebe o salário de um colaborador e o reajuste segundo o seguinte critério, baseado no salário atual:\n",
        "\n",
        "*   Salários até 280,00 reais: aumento de 20%\n",
        "*   Salários entre 280,00 e 700,00 reais: aumento de 15%\n",
        "*   Salários entre 700,00 e 1500,00 reais: aumento de 10%\n",
        "*   Salários de 1500,00 em diante: aumento de 5%\n",
        "Apos o aumento ser realizado, informe na tela:\n",
        "*   Salário antes do reajuste\n",
        "*   O percentual de aumento aplicado\n",
        "*   O valor do aumento\n",
        "*   O novo salário, apos o aumento\n",
        "\n",
        "\n",
        "\n",
        "\n",
        "\n",
        "\n",
        "\n",
        "\n",
        "\n",
        "\n",
        "\n"
      ],
      "metadata": {
        "id": "IlmBvDe-PMdH"
      }
    },
    {
      "cell_type": "code",
      "source": [],
      "metadata": {
        "id": "PwPX6HmZfyIp"
      },
      "execution_count": null,
      "outputs": []
    },
    {
      "cell_type": "markdown",
      "source": [],
      "metadata": {
        "id": "b6dH_F8RfynV"
      }
    }
  ]
}